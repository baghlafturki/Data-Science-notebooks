{
 "cells": [
  {
   "cell_type": "markdown",
   "metadata": {
    "colab_type": "text",
    "id": "kL-0xfJwoLVL"
   },
   "source": [
    "# 0. Import modules"
   ]
  },
  {
   "cell_type": "code",
   "execution_count": 2,
   "metadata": {
    "colab": {
     "base_uri": "https://localhost:8080/",
     "height": 68
    },
    "colab_type": "code",
    "id": "a0yTzQ5PTNCV",
    "outputId": "b395831c-3e57-4836-a0bd-65adebe29ca2"
   },
   "outputs": [
    {
     "name": "stdout",
     "output_type": "stream",
     "text": [
      "Mounted at /content/gdrive\n",
      "/content/gdrive/My Drive/CHALLENGE\n",
      "/content/gdrive/My Drive/CHALLENGE\n"
     ]
    }
   ],
   "source": [
    "# I'm using google collab for this challange\n",
    "# this is to link my drive where i host the files\n",
    "\n",
    "from google.colab import drive \n",
    "drive.mount('/content/gdrive')\n",
    "\n",
    "\n",
    "%cd /content/gdrive/My\\ Drive/CHALLENGE\n",
    "!pwd"
   ]
  },
  {
   "cell_type": "code",
   "execution_count": 86,
   "metadata": {
    "colab": {},
    "colab_type": "code",
    "id": "ODiTHpVejEXS"
   },
   "outputs": [],
   "source": [
    "# Execute if you dont have the modules\n",
    "\n",
    "#!pip install python-bidi\n",
    "#!pip install arabic_reshaper\n",
    "\n",
    "#!pip install transformers\n",
    "#!git clone https://github.com/aub-mind/arabert\n",
    "#!pip install pyarabic\n",
    "#!pip install farasapy\n",
    "#!pip install transformers\n"
   ]
  },
  {
   "cell_type": "code",
   "execution_count": 88,
   "metadata": {
    "colab": {
     "base_uri": "https://localhost:8080/",
     "height": 34
    },
    "colab_type": "code",
    "id": "7oyn_PSEWGiP",
    "outputId": "ff2bc7ea-e1f7-46e9-d49e-401b5dff1e14"
   },
   "outputs": [
    {
     "name": "stderr",
     "output_type": "stream",
     "text": [
      "[2020-09-21 17:08:39,253 - DEBUG]: Loaded backend module://ipykernel.pylab.backend_inline version unknown.\n"
     ]
    }
   ],
   "source": [
    "import pandas as pd\n",
    "import numpy as np\n",
    "\n",
    "# Visualization\n",
    "import matplotlib.pyplot as plt\n",
    "%matplotlib inline\n",
    "\n",
    "# suppress matplotlib debugging (when printing reshaped arabic)\n",
    "import logging\n",
    "logging.getLogger('matplotlib.font_manager').disabled = True\n",
    "\n",
    "\n",
    "\n",
    "from sklearn.model_selection import train_test_split\n",
    "import tensorflow as tf\n",
    "\n",
    "\n",
    "\n",
    "# for inversing arabic so it displays properly when plotting\n",
    "from bidi.algorithm import get_display\n",
    "import arabic_reshaper as reshaper\n",
    "\n",
    "\n",
    "\n",
    "# BERT, word processors and tokenizers\n",
    "from transformers import BertTokenizer\n",
    "from arabert.preprocess_arabert import never_split_tokens, preprocess\n",
    "from farasa.segmenter import FarasaSegmenter\n",
    "from sklearn.feature_extraction.text import TfidfTransformer, CountVectorizer\n",
    "\n",
    "import sys"
   ]
  },
  {
   "cell_type": "markdown",
   "metadata": {
    "colab_type": "text",
    "id": "Un7lil72opfr"
   },
   "source": [
    " Dependcies info"
   ]
  },
  {
   "cell_type": "code",
   "execution_count": 89,
   "metadata": {
    "colab": {
     "base_uri": "https://localhost:8080/",
     "height": 102
    },
    "colab_type": "code",
    "id": "B4AkxiLkoott",
    "outputId": "fdcf26db-cc22-4751-f078-d459934378c6"
   },
   "outputs": [
    {
     "name": "stdout",
     "output_type": "stream",
     "text": [
      "Versions:\n",
      "Python: 3.6.9\n",
      "Pandas: 1.0.5\n",
      "Tensorflow: 2.3.0\n",
      "Numpy: 1.18.5\n"
     ]
    }
   ],
   "source": [
    "# Dependencies info of main modules (Do not re-execute otherwise will be override)\n",
    "print(f\"Versions:\\nPython: {sys.version.split(' ')[0]}\\nPandas: {pd.__version__}\\nTensorflow: {tf.__version__}\\nNumpy: {np.__version__}\")"
   ]
  },
  {
   "cell_type": "code",
   "execution_count": 5,
   "metadata": {
    "colab": {
     "base_uri": "https://localhost:8080/",
     "height": 881,
     "referenced_widgets": [
      "401b06472c444367872558d34db8bd92",
      "f5e51fd628eb485a887f5621fdedb73c",
      "39d60e6cba9b4ec1b364e9959c4ca078",
      "a2f7941a070b417394a658019fbf3ebc",
      "265fe39c94474415aa29b50bfdf13a3d",
      "52ca6ff8b53a44c69502eba3047e26bf",
      "83dfc331d180456dba13f697f3bb5568",
      "fd56f95def814a9094908be63f7bd131",
      "14bb54d519fe425caf340e8df5680c67",
      "1a4f8e3bbc0248b481b686b36f9a6751",
      "caea5536eca24a5bb7e117383b3304f0",
      "afe5ed16803a4aac82875376599533cd",
      "e7b0e5e95c2c47bcb19886ecb1d67260",
      "c753e71645254bf2baf14ab9ffa9b2cc",
      "081687946b5f49989549e3ec9aae99cf",
      "87ed9301cecf4b0ea2334fe3318c4f9a",
      "90a36372b10e46928de1b81a3d5f2827",
      "3e9a2a1b8b1349458e006fb3c919eb56",
      "f372359d1e204195aa36333d052970d7",
      "b75004f5475848378e8637b0f35ba5c3",
      "54961f2730b4486cb4e6f85a7e815104",
      "06edecb871d54123974f714425324851",
      "88064fb5eefb4d6ba257334dc577ad52",
      "dd3804d380e44b56b9511fcd818f37ac"
     ]
    },
    "colab_type": "code",
    "id": "Bbb98oQiD6Zo",
    "outputId": "2969f76a-d4e2-4e86-a814-da465089c4f4"
   },
   "outputs": [
    {
     "name": "stderr",
     "output_type": "stream",
     "text": [
      "[2020-09-21 15:53:27,551 - DEBUG]: perform system check...\n",
      "[2020-09-21 15:53:27,553 - DEBUG]: check java version...\n",
      "[2020-09-21 15:53:28,172 - DEBUG]: Your java version is 11.0 which is compatiple with Farasa \n",
      "[2020-09-21 15:53:28,174 - DEBUG]: check toolkit binaries...\n",
      "[2020-09-21 15:53:28,175 - INFO]: some binaries are not existed.\n",
      "[2020-09-21 15:53:28,180 - INFO]: downloading zipped binaries...\n",
      "[2020-09-21 15:53:28,193 - DEBUG]: Starting new HTTPS connection (1): farasa-api.qcri.org:443\n",
      "[2020-09-21 15:53:28,755 - DEBUG]: https://farasa-api.qcri.org:443 \"GET /farasapy/releases/download/toolkit-bins-released/farasa_bin.zip HTTP/1.1\" 200 200394706\n"
     ]
    },
    {
     "name": "stdout",
     "output_type": "stream",
     "text": [
      "100%|██████████| 200M/200M [00:07<00:00, 25.8MiB/s]"
     ]
    },
    {
     "name": "stderr",
     "output_type": "stream",
     "text": [
      "[2020-09-21 15:53:36,518 - DEBUG]: extracting...\n"
     ]
    },
    {
     "name": "stdout",
     "output_type": "stream",
     "text": [
      "\n"
     ]
    },
    {
     "name": "stderr",
     "output_type": "stream",
     "text": [
      "[2020-09-21 15:53:37,432 - DEBUG]: toolkit binaries are downloaded and extracted.\n",
      "[2020-09-21 15:53:37,434 - INFO]: Dependencies seem to be satisfied..\n",
      "[2020-09-21 15:53:37,435 - INFO]: task [SEGMENT] is initialized in \u001b[34mSTANDALONE \u001b[37mmode...\n",
      "[2020-09-21 15:53:37,766 - DEBUG]: Starting new HTTPS connection (1): s3.amazonaws.com:443\n",
      "[2020-09-21 15:53:37,843 - DEBUG]: https://s3.amazonaws.com:443 \"HEAD /models.huggingface.co/bert/aubmindlab/bert-base-arabert/vocab.txt HTTP/1.1\" 200 0\n",
      "[2020-09-21 15:53:37,849 - DEBUG]: Attempting to acquire lock 140448316767144 on /root/.cache/torch/transformers/e00d70bd70387a7cefb7b3f960c2b4bff22c254c680dabca3c09336b98c42396.a17ce51bb78b7fa46a5b28baee670bca2f9bf6bc93608fc37438db58382e5bc0.lock\n",
      "[2020-09-21 15:53:37,850 - INFO]: Lock 140448316767144 acquired on /root/.cache/torch/transformers/e00d70bd70387a7cefb7b3f960c2b4bff22c254c680dabca3c09336b98c42396.a17ce51bb78b7fa46a5b28baee670bca2f9bf6bc93608fc37438db58382e5bc0.lock\n",
      "[2020-09-21 15:53:37,857 - DEBUG]: Starting new HTTPS connection (1): s3.amazonaws.com:443\n",
      "[2020-09-21 15:53:37,971 - DEBUG]: https://s3.amazonaws.com:443 \"GET /models.huggingface.co/bert/aubmindlab/bert-base-arabert/vocab.txt HTTP/1.1\" 200 717153\n"
     ]
    },
    {
     "data": {
      "application/vnd.jupyter.widget-view+json": {
       "model_id": "401b06472c444367872558d34db8bd92",
       "version_major": 2,
       "version_minor": 0
      },
      "text/plain": [
       "HBox(children=(FloatProgress(value=0.0, description='Downloading', max=717153.0, style=ProgressStyle(descripti…"
      ]
     },
     "metadata": {
      "tags": []
     },
     "output_type": "display_data"
    },
    {
     "name": "stderr",
     "output_type": "stream",
     "text": [
      "[2020-09-21 15:53:38,100 - DEBUG]: Attempting to release lock 140448316767144 on /root/.cache/torch/transformers/e00d70bd70387a7cefb7b3f960c2b4bff22c254c680dabca3c09336b98c42396.a17ce51bb78b7fa46a5b28baee670bca2f9bf6bc93608fc37438db58382e5bc0.lock\n",
      "[2020-09-21 15:53:38,102 - INFO]: Lock 140448316767144 released on /root/.cache/torch/transformers/e00d70bd70387a7cefb7b3f960c2b4bff22c254c680dabca3c09336b98c42396.a17ce51bb78b7fa46a5b28baee670bca2f9bf6bc93608fc37438db58382e5bc0.lock\n",
      "[2020-09-21 15:53:38,106 - DEBUG]: Starting new HTTPS connection (1): s3.amazonaws.com:443\n",
      "[2020-09-21 15:53:38,178 - DEBUG]: https://s3.amazonaws.com:443 \"HEAD /models.huggingface.co/bert/aubmindlab/bert-base-arabert/added_tokens.json HTTP/1.1\" 404 0\n",
      "[2020-09-21 15:53:38,185 - DEBUG]: Starting new HTTPS connection (1): s3.amazonaws.com:443\n",
      "[2020-09-21 15:53:38,264 - DEBUG]: https://s3.amazonaws.com:443 \"HEAD /models.huggingface.co/bert/aubmindlab/bert-base-arabert/special_tokens_map.json HTTP/1.1\" 200 0\n",
      "[2020-09-21 15:53:38,267 - DEBUG]: Attempting to acquire lock 140448316767144 on /root/.cache/torch/transformers/4b95797216e163eea8d9cb1922733c29b4b3ba1036fc48b291cfe660b4240c51.275045728fbf41c11d3dae08b8742c054377e18d92cc7b72b6351152a99b64e4.lock\n",
      "[2020-09-21 15:53:38,269 - INFO]: Lock 140448316767144 acquired on /root/.cache/torch/transformers/4b95797216e163eea8d9cb1922733c29b4b3ba1036fc48b291cfe660b4240c51.275045728fbf41c11d3dae08b8742c054377e18d92cc7b72b6351152a99b64e4.lock\n",
      "[2020-09-21 15:53:38,273 - DEBUG]: Starting new HTTPS connection (1): s3.amazonaws.com:443\n"
     ]
    },
    {
     "name": "stdout",
     "output_type": "stream",
     "text": [
      "\n"
     ]
    },
    {
     "name": "stderr",
     "output_type": "stream",
     "text": [
      "[2020-09-21 15:53:38,364 - DEBUG]: https://s3.amazonaws.com:443 \"GET /models.huggingface.co/bert/aubmindlab/bert-base-arabert/special_tokens_map.json HTTP/1.1\" 200 112\n"
     ]
    },
    {
     "data": {
      "application/vnd.jupyter.widget-view+json": {
       "model_id": "14bb54d519fe425caf340e8df5680c67",
       "version_major": 2,
       "version_minor": 0
      },
      "text/plain": [
       "HBox(children=(FloatProgress(value=0.0, description='Downloading', max=112.0, style=ProgressStyle(description_…"
      ]
     },
     "metadata": {
      "tags": []
     },
     "output_type": "display_data"
    },
    {
     "name": "stderr",
     "output_type": "stream",
     "text": [
      "[2020-09-21 15:53:38,400 - DEBUG]: Attempting to release lock 140448316767144 on /root/.cache/torch/transformers/4b95797216e163eea8d9cb1922733c29b4b3ba1036fc48b291cfe660b4240c51.275045728fbf41c11d3dae08b8742c054377e18d92cc7b72b6351152a99b64e4.lock\n",
      "[2020-09-21 15:53:38,401 - INFO]: Lock 140448316767144 released on /root/.cache/torch/transformers/4b95797216e163eea8d9cb1922733c29b4b3ba1036fc48b291cfe660b4240c51.275045728fbf41c11d3dae08b8742c054377e18d92cc7b72b6351152a99b64e4.lock\n",
      "[2020-09-21 15:53:38,407 - DEBUG]: Starting new HTTPS connection (1): s3.amazonaws.com:443\n",
      "[2020-09-21 15:53:38,493 - DEBUG]: https://s3.amazonaws.com:443 \"HEAD /models.huggingface.co/bert/aubmindlab/bert-base-arabert/tokenizer_config.json HTTP/1.1\" 200 0\n",
      "[2020-09-21 15:53:38,498 - DEBUG]: Attempting to acquire lock 140448314280200 on /root/.cache/torch/transformers/7f3845bf9305a0617f5c8bed56fae2122d82c8f1e2fb5daea826606bcff59b32.1ddbe932d1da5efd2703149c0507e2f0c6ef863b1470aecbc2275f5edf984bea.lock\n",
      "[2020-09-21 15:53:38,499 - INFO]: Lock 140448314280200 acquired on /root/.cache/torch/transformers/7f3845bf9305a0617f5c8bed56fae2122d82c8f1e2fb5daea826606bcff59b32.1ddbe932d1da5efd2703149c0507e2f0c6ef863b1470aecbc2275f5edf984bea.lock\n",
      "[2020-09-21 15:53:38,503 - DEBUG]: Starting new HTTPS connection (1): s3.amazonaws.com:443\n"
     ]
    },
    {
     "name": "stdout",
     "output_type": "stream",
     "text": [
      "\n"
     ]
    },
    {
     "name": "stderr",
     "output_type": "stream",
     "text": [
      "[2020-09-21 15:53:38,605 - DEBUG]: https://s3.amazonaws.com:443 \"GET /models.huggingface.co/bert/aubmindlab/bert-base-arabert/tokenizer_config.json HTTP/1.1\" 200 406\n"
     ]
    },
    {
     "data": {
      "application/vnd.jupyter.widget-view+json": {
       "model_id": "90a36372b10e46928de1b81a3d5f2827",
       "version_major": 2,
       "version_minor": 0
      },
      "text/plain": [
       "HBox(children=(FloatProgress(value=0.0, description='Downloading', max=406.0, style=ProgressStyle(description_…"
      ]
     },
     "metadata": {
      "tags": []
     },
     "output_type": "display_data"
    },
    {
     "name": "stderr",
     "output_type": "stream",
     "text": [
      "[2020-09-21 15:53:38,645 - DEBUG]: Attempting to release lock 140448314280200 on /root/.cache/torch/transformers/7f3845bf9305a0617f5c8bed56fae2122d82c8f1e2fb5daea826606bcff59b32.1ddbe932d1da5efd2703149c0507e2f0c6ef863b1470aecbc2275f5edf984bea.lock\n",
      "[2020-09-21 15:53:38,647 - INFO]: Lock 140448314280200 released on /root/.cache/torch/transformers/7f3845bf9305a0617f5c8bed56fae2122d82c8f1e2fb5daea826606bcff59b32.1ddbe932d1da5efd2703149c0507e2f0c6ef863b1470aecbc2275f5edf984bea.lock\n",
      "[2020-09-21 15:53:38,655 - DEBUG]: Starting new HTTPS connection (1): s3.amazonaws.com:443\n",
      "[2020-09-21 15:53:38,766 - DEBUG]: https://s3.amazonaws.com:443 \"HEAD /models.huggingface.co/bert/aubmindlab/bert-base-arabert/tokenizer.json HTTP/1.1\" 404 0\n"
     ]
    },
    {
     "name": "stdout",
     "output_type": "stream",
     "text": [
      "\n"
     ]
    }
   ],
   "source": [
    "# Farasa segmenter to preprocess sentences later\n",
    "farasa_segmenter = FarasaSegmenter(interactive=False)\n",
    "\n",
    "# instantiating the bert tokenizer\n",
    "# this will be used to convert words to IDs and special characters\n",
    "arabert_tokenizer = BertTokenizer.from_pretrained(\n",
    "    \"aubmindlab/bert-base-arabert\",\n",
    "    do_lower_case=True,\n",
    "    do_basic_tokenize=True,\n",
    "    never_split=never_split_tokens)"
   ]
  },
  {
   "cell_type": "markdown",
   "metadata": {
    "colab_type": "text",
    "id": "Gw1Qc0BaqFLp"
   },
   "source": [
    "# 1. Import the dataset"
   ]
  },
  {
   "cell_type": "code",
   "execution_count": 83,
   "metadata": {
    "colab": {},
    "colab_type": "code",
    "id": "wd4ppNNRVWZt"
   },
   "outputs": [],
   "source": [
    "# reading full dataset\n",
    "poems = pd.read_csv(\"Arabic Poetry Dataset/all_poems_58K.csv\")"
   ]
  },
  {
   "cell_type": "code",
   "execution_count": 84,
   "metadata": {
    "colab": {
     "base_uri": "https://localhost:8080/",
     "height": 187
    },
    "colab_type": "code",
    "id": "oW_-4UwtIOoQ",
    "outputId": "a7a9b480-a8cf-4b0b-c3cd-f04bfb9f38e3"
   },
   "outputs": [
    {
     "data": {
      "text/plain": [
       "poem_id        int64\n",
       "poem_link     object\n",
       "poem_style    object\n",
       "poem_text     object\n",
       "poem_title    object\n",
       "poet_cat      object\n",
       "poet_id        int64\n",
       "poet_link     object\n",
       "poet_name     object\n",
       "dtype: object"
      ]
     },
     "execution_count": 84,
     "metadata": {
      "tags": []
     },
     "output_type": "execute_result"
    }
   ],
   "source": [
    "# checking out datatypes\n",
    "poems.dtypes"
   ]
  },
  {
   "cell_type": "code",
   "execution_count": 85,
   "metadata": {
    "colab": {
     "base_uri": "https://localhost:8080/",
     "height": 332
    },
    "colab_type": "code",
    "id": "4aQ8GFJCWSu_",
    "outputId": "0d0a6f31-fc11-4b35-87e3-1e4c89007d91"
   },
   "outputs": [
    {
     "data": {
      "text/html": [
       "<div>\n",
       "<style scoped>\n",
       "    .dataframe tbody tr th:only-of-type {\n",
       "        vertical-align: middle;\n",
       "    }\n",
       "\n",
       "    .dataframe tbody tr th {\n",
       "        vertical-align: top;\n",
       "    }\n",
       "\n",
       "    .dataframe thead th {\n",
       "        text-align: right;\n",
       "    }\n",
       "</style>\n",
       "<table border=\"1\" class=\"dataframe\">\n",
       "  <thead>\n",
       "    <tr style=\"text-align: right;\">\n",
       "      <th></th>\n",
       "      <th>poem_id</th>\n",
       "      <th>poem_link</th>\n",
       "      <th>poem_style</th>\n",
       "      <th>poem_text</th>\n",
       "      <th>poem_title</th>\n",
       "      <th>poet_cat</th>\n",
       "      <th>poet_id</th>\n",
       "      <th>poet_link</th>\n",
       "      <th>poet_name</th>\n",
       "    </tr>\n",
       "  </thead>\n",
       "  <tbody>\n",
       "    <tr>\n",
       "      <th>0</th>\n",
       "      <td>21</td>\n",
       "      <td>http://www.adab.com/modules.php?name=Sh3er&amp;doW...</td>\n",
       "      <td>فصحى</td>\n",
       "      <td>عيناك غابتا نخيل ساعة السحر او شرفتان راح يناي...</td>\n",
       "      <td>أنشودة المطر</td>\n",
       "      <td>العراق</td>\n",
       "      <td>2</td>\n",
       "      <td>http://www.adab.com/modules.php?name=Sh3er&amp;doW...</td>\n",
       "      <td>بدر شاكر السياب</td>\n",
       "    </tr>\n",
       "    <tr>\n",
       "      <th>1</th>\n",
       "      <td>65546</td>\n",
       "      <td>http://www.adab.com/modules.php?name=Sh3er&amp;doW...</td>\n",
       "      <td>فصحى</td>\n",
       "      <td>انا لا ازال و في يدي قدحي ياليل اين تفرق الشر...</td>\n",
       "      <td>أقداح و أحلام</td>\n",
       "      <td>العراق</td>\n",
       "      <td>2</td>\n",
       "      <td>http://www.adab.com/modules.php?name=Sh3er&amp;doW...</td>\n",
       "      <td>بدر شاكر السياب</td>\n",
       "    </tr>\n",
       "    <tr>\n",
       "      <th>2</th>\n",
       "      <td>65561</td>\n",
       "      <td>http://www.adab.com/modules.php?name=Sh3er&amp;doW...</td>\n",
       "      <td>فصحى</td>\n",
       "      <td>علي مقلتيك ارتشفت النجوم وعانقت امالي الايبة ...</td>\n",
       "      <td>هوى واحد !</td>\n",
       "      <td>العراق</td>\n",
       "      <td>2</td>\n",
       "      <td>http://www.adab.com/modules.php?name=Sh3er&amp;doW...</td>\n",
       "      <td>بدر شاكر السياب</td>\n",
       "    </tr>\n",
       "  </tbody>\n",
       "</table>\n",
       "</div>"
      ],
      "text/plain": [
       "   poem_id  ...        poet_name\n",
       "0       21  ...  بدر شاكر السياب\n",
       "1    65546  ...  بدر شاكر السياب\n",
       "2    65561  ...  بدر شاكر السياب\n",
       "\n",
       "[3 rows x 9 columns]"
      ]
     },
     "execution_count": 85,
     "metadata": {
      "tags": []
     },
     "output_type": "execute_result"
    }
   ],
   "source": [
    "# checking how the DataFrame looks like\n",
    "poems.head(3)"
   ]
  },
  {
   "cell_type": "markdown",
   "metadata": {
    "colab_type": "text",
    "id": "HWXd_54eqK5A"
   },
   "source": [
    "# 2. Explore the data and visualize significant variables (EDA).\n",
    "\n",
    "### Poem style and Poem origin\n",
    "Below i will check the distribution of two features, poem style and poem origin. The rest are too dense to visualize (contain many values)\n"
   ]
  },
  {
   "cell_type": "code",
   "execution_count": 59,
   "metadata": {
    "colab": {},
    "colab_type": "code",
    "id": "AbaSf6YVZbZy"
   },
   "outputs": [],
   "source": [
    "def show_unique(df, cols):\n",
    "  '''\n",
    "  A function to visualize unique categories within each column with their distribution\n",
    "  param df: (DataFrame) dataframe containing the data\n",
    "  param cols: (list) list of names of categorical columns\n",
    "  '''\n",
    "  # size of the figure\n",
    "  n_cols = len(cols) \n",
    "\n",
    "  # creating the main figure\n",
    "  fig = plt.figure(figsize=(10*n_cols, 10*n_cols))\n",
    "\n",
    "  # for each column, make a pie chart\n",
    "  for idx, col in enumerate(cols):\n",
    "    # creating a subplot\n",
    "    ax = fig.add_subplot(n_cols, n_cols,idx+1)\n",
    "\n",
    "    # Counting each category and plotting \n",
    "    grouped = df.groupby(col)[col].count().sort_values()\n",
    "\n",
    "    # Big fuss here to inverse arabic so it is readable\n",
    "    ax.barh(y=[get_display(reshaper.reshape(cat)) for cat in grouped.index],\n",
    "            width=grouped.values)\n",
    "    ax.set_title(f'{col} categories distribution')\n",
    "    \n",
    "  plt.show()"
   ]
  },
  {
   "cell_type": "code",
   "execution_count": 60,
   "metadata": {
    "colab": {
     "base_uri": "https://localhost:8080/",
     "height": 578
    },
    "colab_type": "code",
    "id": "oCqyqlLsdc5_",
    "outputId": "4c7bcde7-255b-46bb-88e5-f295d32b6430"
   },
   "outputs": [
    {
     "data": {
      "image/png": "[encoded data removed]",
      "text/plain": [
       "<Figure size 1440x1440 with 2 Axes>"
      ]
     },
     "metadata": {
      "needs_background": "light",
      "tags": []
     },
     "output_type": "display_data"
    }
   ],
   "source": [
    "# using the function above to plot distribtion of categories in the features\n",
    "show_unique(poems, ['poem_style','poet_cat'])"
   ]
  },
  {
   "cell_type": "code",
   "execution_count": 11,
   "metadata": {
    "colab": {
     "base_uri": "https://localhost:8080/",
     "height": 102
    },
    "colab_type": "code",
    "id": "skNCiBIOrd0q",
    "outputId": "0beac61c-794b-41fe-e987-2abf19fd85f3"
   },
   "outputs": [
    {
     "data": {
      "text/plain": [
       "poem_style\n",
       "-          33\n",
       "عامي       94\n",
       "فصحى    57894\n",
       "Name: poem_style, dtype: int64"
      ]
     },
     "execution_count": 11,
     "metadata": {
      "tags": []
     },
     "output_type": "execute_result"
    }
   ],
   "source": [
    "# Just to prove that the marginal poem styles are not empty\n",
    "# because they cannot be seen in the subplot\n",
    "poems.groupby('poem_style')['poem_style'].count()"
   ]
  },
  {
   "cell_type": "markdown",
   "metadata": {
    "colab_type": "text",
    "id": "HwZLYX9EtSTI"
   },
   "source": [
    "According to the left subplot above, most poems are written in formal arabic (فصحى) while the non-formal and unclassified poems are marginal.\n",
    "\n",
    "Based on the subplot on the right, there are a lot of poets in this dataset which origenated from abasi period. \n",
    "\n",
    "Ultimately, we strive for a balanced dataset, usually by applying techniques such as Synthetic Minority Oversampling Technique(SMOTE) to upsample the minority classes or downsampling the majority classes. However, when dealing with text, SMOTE does not work as expected as two words could be close to each other in value but drastically differ in meaning. \n",
    "\n",
    "On of the way to upsample text is to use word embedding to generate similar words for the entire sequence (text), since each word is represented in the embedding using a vector where related words (in meaning) have relatively high values within the vector. However, for the sake of simplicity, inbalance here is going to be handled by downsampling abasi period poems to almost match the other majority groups, then each origin (group) will be weighted in which, will be used by the model during training to compensate minor groups.\n",
    "\n",
    "\n",
    "Origin category called  iraq and shaam should be removed as it overlaps with two other origins (iraq, syria)."
   ]
  },
  {
   "cell_type": "markdown",
   "metadata": {
    "colab_type": "text",
    "id": "j87w40a5vUdF"
   },
   "source": [
    "### number of poems by writer\n",
    "Below i will visualize how many poems each writer have written, to determine if the poet Name will help determine origin (because it will not work if each poet written small amount of poems).\n",
    "\n",
    "\n",
    "\n",
    "Then i will visualize the number of unique poets in each origin and whether there exist a poet who had written peoms which differ in origins."
   ]
  },
  {
   "cell_type": "code",
   "execution_count": 12,
   "metadata": {
    "colab": {
     "base_uri": "https://localhost:8080/",
     "height": 633
    },
    "colab_type": "code",
    "id": "U26hwXe2vEBE",
    "outputId": "231e7e22-e718-47ae-af01-1ed8d9b967fc"
   },
   "outputs": [
    {
     "data": {
      "text/plain": [
       "<matplotlib.axes._subplots.AxesSubplot at 0x7fbca8e1f908>"
      ]
     },
     "execution_count": 12,
     "metadata": {
      "tags": []
     },
     "output_type": "execute_result"
    },
    {
     "data": {
      "image/png": "[encoded data removed]",
      "text/plain": [
       "<Figure size 1080x720 with 1 Axes>"
      ]
     },
     "metadata": {
      "needs_background": "light",
      "tags": []
     },
     "output_type": "display_data"
    }
   ],
   "source": [
    "# Counting the number of poems each poet have written\n",
    "poet_groups = poems.groupby('poet_id')['poem_text'].count().sort_values(ascending=False)\n",
    "\n",
    "# since there are a lot of poets, will only include those who have written above 250 poems\n",
    "poet_groups[poet_groups > 250].plot(kind='bar', figsize=(15,10))"
   ]
  },
  {
   "cell_type": "markdown",
   "metadata": {
    "colab_type": "text",
    "id": "yD8n3j6E1TcP"
   },
   "source": [
    "Based on above, there are poets who have written many poems. Lets inspect some of poems of the poet with the ID 173"
   ]
  },
  {
   "cell_type": "code",
   "execution_count": 13,
   "metadata": {
    "colab": {
     "base_uri": "https://localhost:8080/",
     "height": 162
    },
    "colab_type": "code",
    "id": "odbywQ_c0Vrr",
    "outputId": "d5aea311-8b01-4faa-8875-b94b0f0eaa7a"
   },
   "outputs": [
    {
     "data": {
      "text/html": [
       "<div>\n",
       "<style scoped>\n",
       "    .dataframe tbody tr th:only-of-type {\n",
       "        vertical-align: middle;\n",
       "    }\n",
       "\n",
       "    .dataframe tbody tr th {\n",
       "        vertical-align: top;\n",
       "    }\n",
       "\n",
       "    .dataframe thead th {\n",
       "        text-align: right;\n",
       "    }\n",
       "</style>\n",
       "<table border=\"1\" class=\"dataframe\">\n",
       "  <thead>\n",
       "    <tr style=\"text-align: right;\">\n",
       "      <th></th>\n",
       "      <th>poet_name</th>\n",
       "      <th>poem_style</th>\n",
       "      <th>poet_cat</th>\n",
       "      <th>poem_text</th>\n",
       "    </tr>\n",
       "  </thead>\n",
       "  <tbody>\n",
       "    <tr>\n",
       "      <th>13047</th>\n",
       "      <td>ابن الرومي</td>\n",
       "      <td>فصحى</td>\n",
       "      <td>العصر العباسي</td>\n",
       "      <td>ضحك الربيع الي بكي الديم وغدا يسوي النبت بالقم من بين اخضر لابس كما خضرا وازهر غير ذي كم متلاحق الاطراف متسق فكانه قد طم بالجلم متبلج الضحوات مشرقها متارج الاسحار والعتم تجد الوحوش به كفايتها والطير فيه عتيدة الطعم فظباءه تضحي بمنتطح وحمامه تضحي بمختصم والروض في قطع الزبرجد وال ياقوت تحت لاليء تءم طل يرقرقه علي ورق هاتيك او خيلان غالية واري البليغ قصور مبلغه فغدا يهز اثاءث الجم والدولة الزهراء والزمن ال هار حسبك شافي قرم ان الربيع لكالشباب وان صيف يكسعه لكالهرم اشقاءق النعمان بين ربي نعمان انت محاسن النعم غدت الشقاءق وهي واصفة الاء ذي الجبروت والعظم ترف لابصار كحلن بها ليرين كيف عجاءب الحكم شعل تزيدك في النهار سني وتضيء في محلولك الظلم اعجب بها شعلا علي فحم لم تشتعل في ذلك الفحم وكانما لمع السواد الي ما احمر منها في ضحي الرهم حدق العواشق وسطت مقلا نهلت وعلت من دموع دم يا لشقاءق انها قسم تزهي بها الابصار في القسم ما كان يهدي مثلها تحفا الا تطول بارء النسم</td>\n",
       "    </tr>\n",
       "    <tr>\n",
       "      <th>13048</th>\n",
       "      <td>ابن الرومي</td>\n",
       "      <td>فصحى</td>\n",
       "      <td>العصر العباسي</td>\n",
       "      <td>متهل زجل تحن رواعد في حجزتيه وتستطير بروق سدت اواءله سبيل اواخر لم يدر ساءقهن كيف يسوق فسجا واسعد حالبيه بدرة منه سواعد ثرة وعروق وتنفست فيه الصبا فتبجست منه الكلي فاديمه معقوق حتي اذا قضيت لقيعان الملا عنه حقوق بعدهن حقوق طفقت رواياه تجر مزادها فوق الربي ومزادها مشقوق وتضاحك الروض الكءيب لصوبه حتي تفتق نوره المرتوق وتنسمت نفحاته فكانه مسك تضوع فاره مفتوق وتغرد المكاء فيه كانه طرب تعل بالغناء مشوق</td>\n",
       "    </tr>\n",
       "  </tbody>\n",
       "</table>\n",
       "</div>"
      ],
      "text/plain": [
       "        poet_name  ...                                                                                                                                                                                                                                                                                                                                                                                                                                                                                                                                                                                                                                                                                                                                                                                                                                                                                            poem_text\n",
       "13047  ابن الرومي  ...   ضحك الربيع الي بكي الديم وغدا يسوي النبت بالقم من بين اخضر لابس كما خضرا وازهر غير ذي كم متلاحق الاطراف متسق فكانه قد طم بالجلم متبلج الضحوات مشرقها متارج الاسحار والعتم تجد الوحوش به كفايتها والطير فيه عتيدة الطعم فظباءه تضحي بمنتطح وحمامه تضحي بمختصم والروض في قطع الزبرجد وال ياقوت تحت لاليء تءم طل يرقرقه علي ورق هاتيك او خيلان غالية واري البليغ قصور مبلغه فغدا يهز اثاءث الجم والدولة الزهراء والزمن ال هار حسبك شافي قرم ان الربيع لكالشباب وان صيف يكسعه لكالهرم اشقاءق النعمان بين ربي نعمان انت محاسن النعم غدت الشقاءق وهي واصفة الاء ذي الجبروت والعظم ترف لابصار كحلن بها ليرين كيف عجاءب الحكم شعل تزيدك في النهار سني وتضيء في محلولك الظلم اعجب بها شعلا علي فحم لم تشتعل في ذلك الفحم وكانما لمع السواد الي ما احمر منها في ضحي الرهم حدق العواشق وسطت مقلا نهلت وعلت من دموع دم يا لشقاءق انها قسم تزهي بها الابصار في القسم ما كان يهدي مثلها تحفا الا تطول بارء النسم\n",
       "13048  ابن الرومي  ...                                                                                                                                                                                                                                                                                                                                                                                                                                                                                     متهل زجل تحن رواعد في حجزتيه وتستطير بروق سدت اواءله سبيل اواخر لم يدر ساءقهن كيف يسوق فسجا واسعد حالبيه بدرة منه سواعد ثرة وعروق وتنفست فيه الصبا فتبجست منه الكلي فاديمه معقوق حتي اذا قضيت لقيعان الملا عنه حقوق بعدهن حقوق طفقت رواياه تجر مزادها فوق الربي ومزادها مشقوق وتضاحك الروض الكءيب لصوبه حتي تفتق نوره المرتوق وتنسمت نفحاته فكانه مسك تضوع فاره مفتوق وتغرد المكاء فيه كانه طرب تعل بالغناء مشوق\n",
       "\n",
       "[2 rows x 4 columns]"
      ]
     },
     "execution_count": 13,
     "metadata": {
      "tags": []
     },
     "output_type": "execute_result"
    }
   ],
   "source": [
    "# maximizes column width to see the entire poem\n",
    "pd.set_option('display.max_colwidth', None)\n",
    "\n",
    "# check the first two poems for poet with ID 173\n",
    "poems[poems['poet_id']==173][['poet_name','poem_style','poet_cat','poem_text']].head(2)"
   ]
  },
  {
   "cell_type": "markdown",
   "metadata": {
    "colab_type": "text",
    "id": "i-bPRpxDLzvo"
   },
   "source": [
    "### Next i will compare some samples of non-formal poems and formal poems"
   ]
  },
  {
   "cell_type": "code",
   "execution_count": 14,
   "metadata": {
    "colab": {
     "base_uri": "https://localhost:8080/",
     "height": 363
    },
    "colab_type": "code",
    "id": "joIp5teD85yI",
    "outputId": "f9d56dba-7f38-4a1a-a286-a09fcad1b67a"
   },
   "outputs": [
    {
     "data": {
      "text/html": [
       "<div>\n",
       "<style scoped>\n",
       "    .dataframe tbody tr th:only-of-type {\n",
       "        vertical-align: middle;\n",
       "    }\n",
       "\n",
       "    .dataframe tbody tr th {\n",
       "        vertical-align: top;\n",
       "    }\n",
       "\n",
       "    .dataframe thead th {\n",
       "        text-align: right;\n",
       "    }\n",
       "</style>\n",
       "<table border=\"1\" class=\"dataframe\">\n",
       "  <thead>\n",
       "    <tr style=\"text-align: right;\">\n",
       "      <th></th>\n",
       "      <th>poem_style</th>\n",
       "      <th>poem_text</th>\n",
       "    </tr>\n",
       "  </thead>\n",
       "  <tbody>\n",
       "    <tr>\n",
       "      <th>0</th>\n",
       "      <td>فصحى</td>\n",
       "      <td>عيناك غابتا نخيل ساعة السحر او شرفتان راح يناي عنهما القمر عيناك حين تبسمان تورق الكروم وترقص الاضواء كالاقمار في نهر يرجه المجذاف وهنا ساعة السحر كانما تنبض في غوريهما النجوم وتغرقان في ضباب من اسي شفيف كالبحر سرح اليدين فوقه المساء دفء الشتاء فيه وارتعاشة الخريف والموت والميلاد والظلام والضياء فتستفيق ملء روحي رعشة البكاء ونشوة وحشية تعانق السماء كنشوة الطفل اذا خاف من القمر كان اقواس السحاب تشرب الغيوم وقطرة فقطرة تذوب في المطر وكركر الاطفال في عراءش الكروم ودغدغت صمت العصافير علي الشجر انشودة المطر مطر مطر مطر تثاءب المساء والغيوم ما تزال تسح ما تسح من دموعها الثقال كان طفلا بات يهذي قبل ان ينام بان امه – التي افاق منذ عام فلم يجدها ثم حين لج في السءال قالوا له \"بعد غد تعود \" لا بد ان تعود وان تهامس الرفاق انها هناك في جانب التل تنام نومة الحود تسف من ترابها وتشرب المطر كان صيادا حزينا يجمع الشباك ويلعن المياه والقدر وينثر الغناء حيث يافل القمر مطر مطر اتعلمين اي حزن يبعث المطر وكيف تنشج المزاريب اذا انهمر وكيف يشعر الوحيد فيه بالضياع بلا انتهاء – كالدم المراق كالجياع كالحب كالاطفال كالموتي – هو المطر ومقلتاك بي تطيفان مع المطر وعبر امواج الخليج تمسح البروق سواحل العراق بالنجوم والمحار كانها تهم بالشروق فيسحب اليل عليها من دم دثار اصيح بالخليج \" يا خليج يا واهب الءلء والمحار والردي \" فيرجع الصدي كانه النشيج \" يا خليج يا واهب المحار والردي \" اكاد اسمع العراق يذخر الرعود ويخزن البروق في السهول والجبال حتي اذا ما فض عنها ختمها الرجال لم ترك الرياح من ثمود في الواد من اثر اكاد اسمع النخيل يشرب المطر واسمع القري تءن والمهاجرين يصارعون بالمجاذيف وبالقلوع عواصف الخليج والرعود منشدين \" مطر مطر مطر وفي العراق جوع وينثر الغلال فيه موسم الحصاد لتشبع الغربان والجراد وتطحن الشوان والحجر رحي تدور في الحقول حولها بشر مطر مطر مطر وكم ذرفنا ليلة الرحيل من دموع ثم اعتلنا – خوف ان نلام – بالمطر مطر مطر ومنذ ان كنا صغارا كانت السماء تغيم في الشتاء ويهطل المطر وكل عام – حين يعشب الثري – نجوع ما مر عام والعراق ليس فيه جوع مطر مطر مطر في كل قطرة من المطر حمراء او صفراء من اجنة الزهر وكل دمعة من الجياع والعراة وكل قطرة تراق من دم العبيد فهي ابتسام في انتظار مبسم جديد او حلمة توردت علي فم الوليد في عالم الغد الفتي واهب الحياة مطر مطر مطر سيعشب العراق بالمطر \" اصيح بالخليج \" يا خليج يا واهب الءلء والمحار والردي \" فيرجع الصدي كانه النشيج \" يا خليج يا واهب المحار والردي \" وينثر الخليج من هباته الكثار علي الرمال رغوه الاجاج والمحار وما تبقي من عظام باءس غريق من المهاجرين ظل يشرب الردي من لجة الخليج والقرار وفي العراق الف افعي تشرب الرحيق من زهرة يربها الفرات بالندي واسمع الصدي يرن في الخليج \" مطر مطر مطر في كل قطرة من المطر حمراء او صفراء من اجنة الزهر وكل دمعة من الجياع والعراة وكل قطرة تراق من دم العبيد فهي ابتسام في انتظار مبسم جديد او حلمة توردت علي فم الوليد في عالم الغد الفتي واهب الحياة \" ويهطل المطر</td>\n",
       "    </tr>\n",
       "    <tr>\n",
       "      <th>1177</th>\n",
       "      <td>-</td>\n",
       "      <td>هم اكسبوك من السباق رهانا فربحت انت وادركوا الخسرانا هم اوصلوك الي مناك بغدرهم فاذقتهم فوق الهوان هوانا اني لارجو ان تكون بنارهم لما رموك بها بلغت جنانا غدروا بشيبتك الكريمة جهرة ابشر فقد اورثتهم خذلانا اهل الاساءة هم ولكن مادروا كم قدموا لشموخك الاحسانا لقب الشهادة مطمح لم تدخر وسعا لتحمله فكنت وكانا يا احمد الياسين كنت مفوها بالصمت كانا الصمت منك بيانا ما كنت لاهمة وعزيمة وشموخ صبر اعجز العدوانا فرحي بنيل مناك يمزج دمعتي بشارتي ويخف الاحزانا وثقت باله اتصالك حينما صليت فجرك تطلب الغفرانا وتلوت ايات الكتاب مرتلا متاملا تدبر القرانا وضعت جبهتك الكريمة ساجدا ان السجود ليرفع الانسانا وخرجت يتبعك الاحبة مادروا ان الفراق من الاحبة حانا كرسيك المتحرك اختصر المدي وطوي بك الافاق ولازمانا علمته معني الاباء فلم يكن مثل الكراسي الراجفات هوانا معك استلذ الموت صار وفاءه مثلا وصار اباءه عنوانا اشلا ء كرسي البطولة شاهد عدل يدين الغادر الخوانا لكاني ابصرت في عجلاته الما لفقدك لوعة وحنانا حزنا الانك قد رحلت ولم تعد تمشي به كالطواد لا تواني اني لتسالني العدالة بعدما لقيت جحود القوم والنكرانا هل ابصرت اجفان امريكا الظي ام انها لاتملك الاجفانا وعيون اوربا تراها لم تزل في غفلة لا تبصر الطغيانا هل ابصروا جسدا علي كرسيه لما تناثر في الصباح عيانا اين الحضارة ايها الغرب الذي جعل الحضارة جمرة ودخانا عذرا فما هذا سءال تعطف قد ضل من يستعطف البركانا هذا سءال لايجيد جوابه من يعبد الاهواء والشيطانا يا احمد الياسين ان ودعتنا فلقد تركت الصدق والايمانا انا ان بكيت فانما ابكي علي مليارنا لما غدوا قطعانا ابكي علي هذا الشتات لامتي ابكي الخلاف المر والاضغانا ابكي ولي امل كبير ان اري في امتي من يكسر الاوثانا يا فارس الكرسي وجهك لم يكن الا ربيعا بالهدي مزدانا في شعر لحيتك الكريمة صورة لفجرحين يبشر الاكوانا فرحت بك الحور الحسان كاني بك عندهن مغردا جذلانا قدمت في الدنيا المهور وربما بشموخ صبرك قد عقدت قرانا هذا رجاءي يابن ياسين الذي شيدت في قلبي له بنيانا دمك الزكي هو الينابيع التي تسقي الجذور وتنعش الاغصانا رويت بستان الاباء بدفقه ما اجمل الانهار والبستانا ستظل نجما في سماء جهادنا يامقعدا جعل العدو جبانا</td>\n",
       "    </tr>\n",
       "    <tr>\n",
       "      <th>2133</th>\n",
       "      <td>عامي</td>\n",
       "      <td>الا واشيب عيني يوم قالوا لي فمان اله وتحقت انهم من عقب جمعاهم مقفيني تغايا لي خيال الموت يومه مد لي يمناه ولد بعينه الخرسا عقب ماقفي يراعيني نهت وقلت ماجال بالصندوق واعزاه سراب الال باكر يطرد مابينه وبيني حلفت برب خلقه لو يطول البعد انا منساه انا وشلون ابيع الي من العربان شاريني تصبر ياخفوق صار داه اليوم وسط ارداه علي رجوي ان رب العرش يدنيهم ويدنيني مثل ماخذت قلبي المحبوب عطني اياه علي شان انتساوي في المحبة بالموازين ايلا قارنت غيرك بك خجلت وقلت وانقصاه انا وشلون اقارن كامل الاوصاف بالشين ولو هو في حلي يوسف كسف لي بنت نور اضياه وختم القول رب بك تبلاني يقويني</td>\n",
       "    </tr>\n",
       "  </tbody>\n",
       "</table>\n",
       "</div>"
      ],
      "text/plain": [
       "     poem_style                                                                                                                                                                                                                                                                                                                                                                                                                                                                                                                                                                                                                                                                                                                                                                                                                                                                                                                                                                                                                                                                                                                                                                                                                                                                                                                                                                                                                                                                                                                                                                                                                                                                                                                                                                                                                                                                                                                                                                                                                                                                                                                                                                                                                                                                                                                                                                                                                                                                                                                                                                                                                                                                                                                               poem_text\n",
       "0          فصحى  عيناك غابتا نخيل ساعة السحر او شرفتان راح يناي عنهما القمر عيناك حين تبسمان تورق الكروم وترقص الاضواء كالاقمار في نهر يرجه المجذاف وهنا ساعة السحر كانما تنبض في غوريهما النجوم وتغرقان في ضباب من اسي شفيف كالبحر سرح اليدين فوقه المساء دفء الشتاء فيه وارتعاشة الخريف والموت والميلاد والظلام والضياء فتستفيق ملء روحي رعشة البكاء ونشوة وحشية تعانق السماء كنشوة الطفل اذا خاف من القمر كان اقواس السحاب تشرب الغيوم وقطرة فقطرة تذوب في المطر وكركر الاطفال في عراءش الكروم ودغدغت صمت العصافير علي الشجر انشودة المطر مطر مطر مطر تثاءب المساء والغيوم ما تزال تسح ما تسح من دموعها الثقال كان طفلا بات يهذي قبل ان ينام بان امه – التي افاق منذ عام فلم يجدها ثم حين لج في السءال قالوا له \"بعد غد تعود \" لا بد ان تعود وان تهامس الرفاق انها هناك في جانب التل تنام نومة الحود تسف من ترابها وتشرب المطر كان صيادا حزينا يجمع الشباك ويلعن المياه والقدر وينثر الغناء حيث يافل القمر مطر مطر اتعلمين اي حزن يبعث المطر وكيف تنشج المزاريب اذا انهمر وكيف يشعر الوحيد فيه بالضياع بلا انتهاء – كالدم المراق كالجياع كالحب كالاطفال كالموتي – هو المطر ومقلتاك بي تطيفان مع المطر وعبر امواج الخليج تمسح البروق سواحل العراق بالنجوم والمحار كانها تهم بالشروق فيسحب اليل عليها من دم دثار اصيح بالخليج \" يا خليج يا واهب الءلء والمحار والردي \" فيرجع الصدي كانه النشيج \" يا خليج يا واهب المحار والردي \" اكاد اسمع العراق يذخر الرعود ويخزن البروق في السهول والجبال حتي اذا ما فض عنها ختمها الرجال لم ترك الرياح من ثمود في الواد من اثر اكاد اسمع النخيل يشرب المطر واسمع القري تءن والمهاجرين يصارعون بالمجاذيف وبالقلوع عواصف الخليج والرعود منشدين \" مطر مطر مطر وفي العراق جوع وينثر الغلال فيه موسم الحصاد لتشبع الغربان والجراد وتطحن الشوان والحجر رحي تدور في الحقول حولها بشر مطر مطر مطر وكم ذرفنا ليلة الرحيل من دموع ثم اعتلنا – خوف ان نلام – بالمطر مطر مطر ومنذ ان كنا صغارا كانت السماء تغيم في الشتاء ويهطل المطر وكل عام – حين يعشب الثري – نجوع ما مر عام والعراق ليس فيه جوع مطر مطر مطر في كل قطرة من المطر حمراء او صفراء من اجنة الزهر وكل دمعة من الجياع والعراة وكل قطرة تراق من دم العبيد فهي ابتسام في انتظار مبسم جديد او حلمة توردت علي فم الوليد في عالم الغد الفتي واهب الحياة مطر مطر مطر سيعشب العراق بالمطر \" اصيح بالخليج \" يا خليج يا واهب الءلء والمحار والردي \" فيرجع الصدي كانه النشيج \" يا خليج يا واهب المحار والردي \" وينثر الخليج من هباته الكثار علي الرمال رغوه الاجاج والمحار وما تبقي من عظام باءس غريق من المهاجرين ظل يشرب الردي من لجة الخليج والقرار وفي العراق الف افعي تشرب الرحيق من زهرة يربها الفرات بالندي واسمع الصدي يرن في الخليج \" مطر مطر مطر في كل قطرة من المطر حمراء او صفراء من اجنة الزهر وكل دمعة من الجياع والعراة وكل قطرة تراق من دم العبيد فهي ابتسام في انتظار مبسم جديد او حلمة توردت علي فم الوليد في عالم الغد الفتي واهب الحياة \" ويهطل المطر \n",
       "1177          -                                                                                                                                                                                                                                                                                                                                                                                                                                                                                                                                                                                                                                                                                                                                                               هم اكسبوك من السباق رهانا فربحت انت وادركوا الخسرانا هم اوصلوك الي مناك بغدرهم فاذقتهم فوق الهوان هوانا اني لارجو ان تكون بنارهم لما رموك بها بلغت جنانا غدروا بشيبتك الكريمة جهرة ابشر فقد اورثتهم خذلانا اهل الاساءة هم ولكن مادروا كم قدموا لشموخك الاحسانا لقب الشهادة مطمح لم تدخر وسعا لتحمله فكنت وكانا يا احمد الياسين كنت مفوها بالصمت كانا الصمت منك بيانا ما كنت لاهمة وعزيمة وشموخ صبر اعجز العدوانا فرحي بنيل مناك يمزج دمعتي بشارتي ويخف الاحزانا وثقت باله اتصالك حينما صليت فجرك تطلب الغفرانا وتلوت ايات الكتاب مرتلا متاملا تدبر القرانا وضعت جبهتك الكريمة ساجدا ان السجود ليرفع الانسانا وخرجت يتبعك الاحبة مادروا ان الفراق من الاحبة حانا كرسيك المتحرك اختصر المدي وطوي بك الافاق ولازمانا علمته معني الاباء فلم يكن مثل الكراسي الراجفات هوانا معك استلذ الموت صار وفاءه مثلا وصار اباءه عنوانا اشلا ء كرسي البطولة شاهد عدل يدين الغادر الخوانا لكاني ابصرت في عجلاته الما لفقدك لوعة وحنانا حزنا الانك قد رحلت ولم تعد تمشي به كالطواد لا تواني اني لتسالني العدالة بعدما لقيت جحود القوم والنكرانا هل ابصرت اجفان امريكا الظي ام انها لاتملك الاجفانا وعيون اوربا تراها لم تزل في غفلة لا تبصر الطغيانا هل ابصروا جسدا علي كرسيه لما تناثر في الصباح عيانا اين الحضارة ايها الغرب الذي جعل الحضارة جمرة ودخانا عذرا فما هذا سءال تعطف قد ضل من يستعطف البركانا هذا سءال لايجيد جوابه من يعبد الاهواء والشيطانا يا احمد الياسين ان ودعتنا فلقد تركت الصدق والايمانا انا ان بكيت فانما ابكي علي مليارنا لما غدوا قطعانا ابكي علي هذا الشتات لامتي ابكي الخلاف المر والاضغانا ابكي ولي امل كبير ان اري في امتي من يكسر الاوثانا يا فارس الكرسي وجهك لم يكن الا ربيعا بالهدي مزدانا في شعر لحيتك الكريمة صورة لفجرحين يبشر الاكوانا فرحت بك الحور الحسان كاني بك عندهن مغردا جذلانا قدمت في الدنيا المهور وربما بشموخ صبرك قد عقدت قرانا هذا رجاءي يابن ياسين الذي شيدت في قلبي له بنيانا دمك الزكي هو الينابيع التي تسقي الجذور وتنعش الاغصانا رويت بستان الاباء بدفقه ما اجمل الانهار والبستانا ستظل نجما في سماء جهادنا يامقعدا جعل العدو جبانا\n",
       "2133       عامي                                                                                                                                                                                                                                                                                                                                                                                                                                                                                                                                                                                                                                                                                                                                                                                                                                                                                                                                                                                                                                                                                                                                                                                                                                                                                                                                                                                                                                                                                                                                                                                                                                                                                                                                                                                                                                                                                                                                                                                                                                                                                                                                                    الا واشيب عيني يوم قالوا لي فمان اله وتحقت انهم من عقب جمعاهم مقفيني تغايا لي خيال الموت يومه مد لي يمناه ولد بعينه الخرسا عقب ماقفي يراعيني نهت وقلت ماجال بالصندوق واعزاه سراب الال باكر يطرد مابينه وبيني حلفت برب خلقه لو يطول البعد انا منساه انا وشلون ابيع الي من العربان شاريني تصبر ياخفوق صار داه اليوم وسط ارداه علي رجوي ان رب العرش يدنيهم ويدنيني مثل ماخذت قلبي المحبوب عطني اياه علي شان انتساوي في المحبة بالموازين ايلا قارنت غيرك بك خجلت وقلت وانقصاه انا وشلون اقارن كامل الاوصاف بالشين ولو هو في حلي يوسف كسف لي بنت نور اضياه وختم القول رب بك تبلاني يقويني"
      ]
     },
     "execution_count": 14,
     "metadata": {
      "tags": []
     },
     "output_type": "execute_result"
    }
   ],
   "source": [
    "# getting a sample poem per style\n",
    "poems.groupby('poem_style')[['poem_style','poem_text']].head(1)"
   ]
  },
  {
   "cell_type": "markdown",
   "metadata": {
    "colab_type": "text",
    "id": "W5r8fCWu-HbP"
   },
   "source": [
    "Formal arabic seems to contain less mistypes ('باءس') than unclassified and formal arabic. Furthermore, there are words that are not present in formal arabic dictionary such as \"العربان\" and much more. Hence, it is best to preprocess the text to separate the prefix and suffix so some of non formal and unclassified texts match formal arabic.\n",
    "\n",
    "For example:\n",
    "\n",
    " العرب will be processed to ال عرب (Formal)\n",
    "\n",
    " العربان will be processed to ال عرب ان\n",
    " \n",
    " This will increase the cances of matches between formal and non-formal texts of similar word origin.\n",
    "\n",
    " Below i will use [Farasa toolkit](http://qatsdemo.cloudapp.net/farasa/) to preprocess the two words above to confirm it works as expected.\n"
   ]
  },
  {
   "cell_type": "code",
   "execution_count": 15,
   "metadata": {
    "colab": {
     "base_uri": "https://localhost:8080/",
     "height": 51
    },
    "colab_type": "code",
    "id": "Sl0l-ChFAa1M",
    "outputId": "a1b24c67-53ea-4c9c-cd22-3dd9ad5338d0"
   },
   "outputs": [
    {
     "name": "stdout",
     "output_type": "stream",
     "text": [
      "ال+ عرب\n",
      "ال+ عرب +ان\n"
     ]
    }
   ],
   "source": [
    "print(preprocess('العرب', do_farasa_tokenization = True, farasa = farasa_segmenter,\n",
    "           use_farasapy = True),\n",
    "preprocess('العربان', do_farasa_tokenization = True, farasa = farasa_segmenter,\n",
    "           use_farasapy = True),sep='\\n')"
   ]
  },
  {
   "cell_type": "markdown",
   "metadata": {
    "colab_type": "text",
    "id": "Gla3DxD5FNjG"
   },
   "source": [
    "Based on the above analysis, poem style feature does not play a crucial role in determining the origin of the poem as most of the poems are written in formal arabic. Furthermore, the difference of words which have the same root will not have a negative effect, as it will be handled during processing which helps in normalizing the varience of words with the same root."
   ]
  },
  {
   "cell_type": "markdown",
   "metadata": {
    "colab_type": "text",
    "id": "SIxkPWfaEnAs"
   },
   "source": [
    "### Number of poets for each origin\n",
    "Lets check the unique number of poets for each origin"
   ]
  },
  {
   "cell_type": "code",
   "execution_count": 16,
   "metadata": {
    "colab": {
     "base_uri": "https://localhost:8080/",
     "height": 265
    },
    "colab_type": "code",
    "id": "ZMZWakelEkB0",
    "outputId": "4b029673-1772-44ee-8da4-5387731657fa"
   },
   "outputs": [
    {
     "data": {
      "image/png": "[encoded data removed]",
      "text/plain": [
       "<Figure size 432x288 with 1 Axes>"
      ]
     },
     "metadata": {
      "needs_background": "light",
      "tags": []
     },
     "output_type": "display_data"
    }
   ],
   "source": [
    "# grouping by origin then counting unique names\n",
    "poet_group = poems.groupby('poet_cat')['poet_name'].nunique().sort_values()\n",
    "\n",
    "# plotting \n",
    "plt.barh(y=[get_display(reshaper.reshape(origin)) for origin in poet_group.index],\n",
    "           width=poet_group.values)\n",
    "plt.show()\n"
   ]
  },
  {
   "cell_type": "markdown",
   "metadata": {
    "colab_type": "text",
    "id": "itGe9HtiImeq"
   },
   "source": [
    "Apparently, Iraq has the most poets, followed by abbasi period then saudi, syria and egypt"
   ]
  },
  {
   "cell_type": "markdown",
   "metadata": {
    "colab_type": "text",
    "id": "65EeZKmp3FjE"
   },
   "source": [
    "Now lets see if there is a poet who have written poems of multiple origins"
   ]
  },
  {
   "cell_type": "code",
   "execution_count": 17,
   "metadata": {
    "colab": {
     "base_uri": "https://localhost:8080/",
     "height": 34
    },
    "colab_type": "code",
    "id": "z0nx3Gg83E5w",
    "outputId": "dc7c88fb-4aea-4c4a-9c3c-2a845676f0ff"
   },
   "outputs": [
    {
     "data": {
      "text/plain": [
       "Series([], Name: poet_cat, dtype: int64)"
      ]
     },
     "execution_count": 17,
     "metadata": {
      "tags": []
     },
     "output_type": "execute_result"
    }
   ],
   "source": [
    "poet_origins = poems.groupby('poet_id')['poet_cat'].nunique()\n",
    "poet_origins[poet_origins > 1]"
   ]
  },
  {
   "cell_type": "markdown",
   "metadata": {
    "colab_type": "text",
    "id": "CKuyxGif4CdL"
   },
   "source": [
    "The above confirms that there is no writer with multiple origins. This makes the poet an important feature to help with poem origin classification. However, if we use the ID, there could be an issue with infrencing new poems as the poet ID could not be applicable (or coming from a platform with mismatching ID ordering) which will cause the model to spit out inaccurate predictions as the new ID does not match the statistical features of the ID used for training.\n",
    "\n",
    "\n",
    "To show the correlation of name with oregin, i will group all the names per origin (after segmenting), then compute the term frequency and IDF for each name to visualize how some family name helps in detecting the origin.\n"
   ]
  },
  {
   "cell_type": "markdown",
   "metadata": {
    "colab_type": "text",
    "id": "vCSQK1oUN03M"
   },
   "source": [
    "### Visualizing poet name relation with origin"
   ]
  },
  {
   "cell_type": "markdown",
   "metadata": {
    "colab_type": "text",
    "id": "1errhIh8WaSG"
   },
   "source": [
    "Although all origins produce arabic poems, there must exist specific phrases and dialect which distinguish them appart. This is due to many factors such as culture which plays a role in forming these dialects and phrases within an origin [Reference](https://study.com/academy/lesson/how-language-reflects-culture-affects-meaning.html). Furthermore, the title of the poem is supposed to provide a wholistic summary of the poem which captures its characteristics in few words.\n",
    "\n",
    "Therefore, a model which understands semantic of the title would perform better as it will be able to understand the hidden relations between words in the sentence, which i believe, will improve performance.\n",
    "\n",
    "\n",
    "However, before we start on the model, lets use TFIDF (which is the term frequency of each term within an origin, multiplied by the total number of origins over the number of origins which uses the term), to visualize the correlation between some family name and poet origins. This is to determine if name of poets could assist us in our classification problem.\n"
   ]
  },
  {
   "cell_type": "markdown",
   "metadata": {
    "colab_type": "text",
    "id": "dEPcAUBKV2Qq"
   },
   "source": [
    "#### Making a TF-IDF reference dataframe for poet name\n",
    "The idea is to have a look up dataframe to determine origin of poet based on poet name.\n",
    "\n",
    "\n",
    "\n"
   ]
  },
  {
   "cell_type": "markdown",
   "metadata": {
    "colab_type": "text",
    "id": "xybN49nc0vQ6"
   },
   "source": [
    "First step is to group all the names within each origin separately, the names of one origin will be grouped together separated by space, repeated names are allowerd if the poet have written more than one poem.\n",
    "\n",
    "furthermore, the names will go thru Farasa segmenter which de-attaches the prefix and suffix from the word (not removing them as it may convey meaning)\n",
    "\n",
    "Example: السعدي will be ال+ سعد ##ي"
   ]
  },
  {
   "cell_type": "code",
   "execution_count": 18,
   "metadata": {
    "colab": {},
    "colab_type": "code",
    "id": "2YyEmuzGnFV5"
   },
   "outputs": [],
   "source": [
    "# list contains [string of segmented names][origin]\n",
    "origin_poet_names = ([],[])\n",
    "\n",
    "# grouping by origin\n",
    "for group_name, df in poems.groupby('poet_cat'):\n",
    "  # append the segmented unique names found in the origin\n",
    "  origin_poet_names[0].append(preprocess(' '.join(df['poet_name']),do_farasa_tokenization = True,\n",
    "             farasa = farasa_segmenter,use_farasapy = True))\n",
    "  \n",
    "  # append the origin name\n",
    "  origin_poet_names[1].append(group_name)\n",
    "             "
   ]
  },
  {
   "cell_type": "code",
   "execution_count": 19,
   "metadata": {
    "colab": {},
    "colab_type": "code",
    "id": "_07wvZi1fkSK"
   },
   "outputs": [],
   "source": [
    "# Vectorize and find the term frequency of each segmented name/suffix/prefix in each origin \n",
    "word_vectorizer = CountVectorizer()\n",
    "# note that each element in the list contains all the names in 1 origin\n",
    "word_vectors = word_vectorizer.fit_transform(origin_poet_names[0]) # index 0 has the names, index 1 has the origin names\n",
    "\n",
    "# create tf-idf object\n",
    "transformer = TfidfTransformer(smooth_idf=False)\n",
    "# compute the IDF\n",
    "tfidf = transformer.fit(word_vectors)\n"
   ]
  },
  {
   "cell_type": "markdown",
   "metadata": {
    "colab_type": "text",
    "id": "IDCE_EU6qz2H"
   },
   "source": [
    "Now since we have the tf and idf calculated, lets make a lookup table where a user can find the tf-idf value for a name in all origins.\n",
    "\n"
   ]
  },
  {
   "cell_type": "code",
   "execution_count": 20,
   "metadata": {
    "colab": {},
    "colab_type": "code",
    "id": "WTGi0qVbfkVG"
   },
   "outputs": [],
   "source": [
    "def make_tfidf(w_vector_array, feature_names, tfidf_transformer, origin_list ):\n",
    "  '''\n",
    "  This function produce a dataframe where the suffex/prefix or name are features\n",
    "  each row in the dataframe is an origin TFIDF value for each feature.\n",
    "\n",
    "  param w_vector_array: (2d list) contains an array of terms frequency for each origin.\n",
    "  param feature_names: (list) contains all the segmented terms.\n",
    "  param tfidf_transformer: (TfidfTransformer) tfidf transformer containing idf values.\n",
    "  param origin_list: (list) list containing origins.\n",
    "\n",
    "  output: (DataFrame) a dataframe were suffex/prefix or name are features and rows contain TFIDF values for each origin\n",
    "  '''\n",
    "\n",
    "  final_df = None\n",
    "  # calculate tfidf for each word by multiplying Term frequency with IDF\n",
    "  # we do this by dividing word count by total words in the origin (TF)\n",
    "  # then multiply TF with IDF (TFIDF)\n",
    "  tfidf_list = [((w_vector_array[idx]/len(origin_list[0][idx].split(' ')))*tfidf_transformer.idf_).tolist()\n",
    "                  for idx in range(len(origin_list[1]))]\n",
    "\n",
    "  # enumerate origin and create a dataframe which feature are the names and tfidf as the value\n",
    "  for origin_idx, origin in enumerate(origin_list[1]):\n",
    "    idf_dict = {name:[tfidf_list[origin_idx][idx]]  for idx, name in enumerate(feature_names)}\n",
    "\n",
    "    # add poet origin feature (the label)\n",
    "    idf_dict['poet_cat'] = [origin]\n",
    "\n",
    "    # if not first run\n",
    "    if final_df is not None:\n",
    "      final_df = final_df.append(pd.DataFrame(data= idf_dict))\n",
    "    else:\n",
    "      final_df = pd.DataFrame(data= idf_dict).copy()\n",
    "      \n",
    "  \n",
    "  return final_df\n",
    "  \n"
   ]
  },
  {
   "cell_type": "code",
   "execution_count": 21,
   "metadata": {
    "colab": {},
    "colab_type": "code",
    "id": "bGlOy9vWgpo7"
   },
   "outputs": [],
   "source": [
    "# use the function to create a lookup dataframe\n",
    "TFIDF_df = make_tfidf(word_vectors.toarray(), word_vectorizer.get_feature_names(), transformer, origin_poet_names)"
   ]
  },
  {
   "cell_type": "code",
   "execution_count": 22,
   "metadata": {
    "colab": {
     "base_uri": "https://localhost:8080/",
     "height": 191
    },
    "colab_type": "code",
    "id": "8bTYCSjpJ6py",
    "outputId": "fa8325f0-cb7c-4781-961e-5138ce3cdf2e"
   },
   "outputs": [
    {
     "data": {
      "text/html": [
       "<div>\n",
       "<style scoped>\n",
       "    .dataframe tbody tr th:only-of-type {\n",
       "        vertical-align: middle;\n",
       "    }\n",
       "\n",
       "    .dataframe tbody tr th {\n",
       "        vertical-align: top;\n",
       "    }\n",
       "\n",
       "    .dataframe thead th {\n",
       "        text-align: right;\n",
       "    }\n",
       "</style>\n",
       "<table border=\"1\" class=\"dataframe\">\n",
       "  <thead>\n",
       "    <tr style=\"text-align: right;\">\n",
       "      <th></th>\n",
       "      <th>آل</th>\n",
       "      <th>آي</th>\n",
       "      <th>أبد</th>\n",
       "      <th>أبرص</th>\n",
       "      <th>أبزون</th>\n",
       "      <th>أبو</th>\n",
       "      <th>أبوالعلاء</th>\n",
       "      <th>أبوجمهور</th>\n",
       "      <th>أبوخالد</th>\n",
       "      <th>أبوطلعة</th>\n",
       "      <th>أبي</th>\n",
       "      <th>أبيوردي</th>\n",
       "      <th>أحلام</th>\n",
       "      <th>أحمد</th>\n",
       "      <th>أحمر</th>\n",
       "      <th>أحنف</th>\n",
       "      <th>أحوص</th>\n",
       "      <th>أحيحة</th>\n",
       "      <th>أخرس</th>\n",
       "      <th>أخطل</th>\n",
       "      <th>أخيلي</th>\n",
       "      <th>أدونيس</th>\n",
       "      <th>أديب</th>\n",
       "      <th>أذين</th>\n",
       "      <th>أرز</th>\n",
       "      <th>أرسلان</th>\n",
       "      <th>أزدي</th>\n",
       "      <th>أسام</th>\n",
       "      <th>أسد</th>\n",
       "      <th>أسدي</th>\n",
       "      <th>أسطى</th>\n",
       "      <th>أسعد</th>\n",
       "      <th>أسود</th>\n",
       "      <th>أطرش</th>\n",
       "      <th>أطيمش</th>\n",
       "      <th>أعشى</th>\n",
       "      <th>أعظمي</th>\n",
       "      <th>أغيد</th>\n",
       "      <th>أقرع</th>\n",
       "      <th>أقيشر</th>\n",
       "      <th>...</th>\n",
       "      <th>هجرس</th>\n",
       "      <th>هدب</th>\n",
       "      <th>هدى</th>\n",
       "      <th>هلال</th>\n",
       "      <th>هماش</th>\n",
       "      <th>همذاني</th>\n",
       "      <th>هندي</th>\n",
       "      <th>هنيدي</th>\n",
       "      <th>هيفاء</th>\n",
       "      <th>هيلدا</th>\n",
       "      <th>وائل</th>\n",
       "      <th>وارهام</th>\n",
       "      <th>واسطي</th>\n",
       "      <th>وافي</th>\n",
       "      <th>واواء</th>\n",
       "      <th>وديع</th>\n",
       "      <th>ورد</th>\n",
       "      <th>وصيف</th>\n",
       "      <th>وضاح</th>\n",
       "      <th>ولاد</th>\n",
       "      <th>وليد</th>\n",
       "      <th>ون</th>\n",
       "      <th>وهب</th>\n",
       "      <th>وهبي</th>\n",
       "      <th>يازجي</th>\n",
       "      <th>ياسر</th>\n",
       "      <th>ياسري</th>\n",
       "      <th>ياسين</th>\n",
       "      <th>يحيى</th>\n",
       "      <th>يزيد</th>\n",
       "      <th>يعفر</th>\n",
       "      <th>يعقوب</th>\n",
       "      <th>يعمر</th>\n",
       "      <th>يمن</th>\n",
       "      <th>يموت</th>\n",
       "      <th>ين</th>\n",
       "      <th>يوسف</th>\n",
       "      <th>يوسفي</th>\n",
       "      <th>يونس</th>\n",
       "      <th>poet_cat</th>\n",
       "    </tr>\n",
       "  </thead>\n",
       "  <tbody>\n",
       "    <tr>\n",
       "      <th>0</th>\n",
       "      <td>0.0</td>\n",
       "      <td>0.0</td>\n",
       "      <td>0.0</td>\n",
       "      <td>0.0</td>\n",
       "      <td>0.0</td>\n",
       "      <td>0.387512</td>\n",
       "      <td>0.0</td>\n",
       "      <td>0.0</td>\n",
       "      <td>0.0</td>\n",
       "      <td>0.0</td>\n",
       "      <td>0.0</td>\n",
       "      <td>0.0</td>\n",
       "      <td>0.0</td>\n",
       "      <td>0.0</td>\n",
       "      <td>0.0</td>\n",
       "      <td>0.0</td>\n",
       "      <td>0.0</td>\n",
       "      <td>0.0</td>\n",
       "      <td>0.0</td>\n",
       "      <td>0.0</td>\n",
       "      <td>0.0</td>\n",
       "      <td>0.0</td>\n",
       "      <td>0.0</td>\n",
       "      <td>0.0</td>\n",
       "      <td>0.0</td>\n",
       "      <td>0.0</td>\n",
       "      <td>0.0</td>\n",
       "      <td>0.0</td>\n",
       "      <td>0.0</td>\n",
       "      <td>0.0</td>\n",
       "      <td>0.0</td>\n",
       "      <td>0.0</td>\n",
       "      <td>0.0</td>\n",
       "      <td>0.0</td>\n",
       "      <td>0.0</td>\n",
       "      <td>0.0</td>\n",
       "      <td>0.0</td>\n",
       "      <td>0.0</td>\n",
       "      <td>0.0</td>\n",
       "      <td>0.0</td>\n",
       "      <td>...</td>\n",
       "      <td>0.0</td>\n",
       "      <td>0.0</td>\n",
       "      <td>0.0</td>\n",
       "      <td>0.0</td>\n",
       "      <td>0.0</td>\n",
       "      <td>0.0</td>\n",
       "      <td>0.0</td>\n",
       "      <td>0.0</td>\n",
       "      <td>0.0</td>\n",
       "      <td>0.0</td>\n",
       "      <td>0.0</td>\n",
       "      <td>0.0</td>\n",
       "      <td>0.0</td>\n",
       "      <td>0.0</td>\n",
       "      <td>0.0</td>\n",
       "      <td>0.0</td>\n",
       "      <td>0.0</td>\n",
       "      <td>0.0</td>\n",
       "      <td>0.0</td>\n",
       "      <td>0.0</td>\n",
       "      <td>0.0</td>\n",
       "      <td>0.0</td>\n",
       "      <td>0.0</td>\n",
       "      <td>0.000000</td>\n",
       "      <td>0.0</td>\n",
       "      <td>0.0</td>\n",
       "      <td>0.0</td>\n",
       "      <td>0.0</td>\n",
       "      <td>0.0</td>\n",
       "      <td>0.0</td>\n",
       "      <td>0.0</td>\n",
       "      <td>0.0</td>\n",
       "      <td>0.0</td>\n",
       "      <td>0.0</td>\n",
       "      <td>0.0</td>\n",
       "      <td>0.0</td>\n",
       "      <td>0.0</td>\n",
       "      <td>0.0</td>\n",
       "      <td>0.0</td>\n",
       "      <td>أفغانستان</td>\n",
       "    </tr>\n",
       "    <tr>\n",
       "      <th>0</th>\n",
       "      <td>0.0</td>\n",
       "      <td>0.0</td>\n",
       "      <td>0.0</td>\n",
       "      <td>0.0</td>\n",
       "      <td>0.0</td>\n",
       "      <td>0.310009</td>\n",
       "      <td>0.0</td>\n",
       "      <td>0.0</td>\n",
       "      <td>0.0</td>\n",
       "      <td>0.0</td>\n",
       "      <td>0.0</td>\n",
       "      <td>0.0</td>\n",
       "      <td>0.0</td>\n",
       "      <td>0.0</td>\n",
       "      <td>0.0</td>\n",
       "      <td>0.0</td>\n",
       "      <td>0.0</td>\n",
       "      <td>0.0</td>\n",
       "      <td>0.0</td>\n",
       "      <td>0.0</td>\n",
       "      <td>0.0</td>\n",
       "      <td>0.0</td>\n",
       "      <td>0.0</td>\n",
       "      <td>0.0</td>\n",
       "      <td>0.0</td>\n",
       "      <td>0.0</td>\n",
       "      <td>0.0</td>\n",
       "      <td>0.0</td>\n",
       "      <td>0.0</td>\n",
       "      <td>0.0</td>\n",
       "      <td>0.0</td>\n",
       "      <td>0.0</td>\n",
       "      <td>0.0</td>\n",
       "      <td>0.0</td>\n",
       "      <td>0.0</td>\n",
       "      <td>0.0</td>\n",
       "      <td>0.0</td>\n",
       "      <td>0.0</td>\n",
       "      <td>0.0</td>\n",
       "      <td>0.0</td>\n",
       "      <td>...</td>\n",
       "      <td>0.0</td>\n",
       "      <td>0.0</td>\n",
       "      <td>0.0</td>\n",
       "      <td>0.0</td>\n",
       "      <td>0.0</td>\n",
       "      <td>0.0</td>\n",
       "      <td>0.0</td>\n",
       "      <td>0.0</td>\n",
       "      <td>0.0</td>\n",
       "      <td>0.0</td>\n",
       "      <td>0.0</td>\n",
       "      <td>0.0</td>\n",
       "      <td>0.0</td>\n",
       "      <td>0.0</td>\n",
       "      <td>0.0</td>\n",
       "      <td>0.0</td>\n",
       "      <td>0.0</td>\n",
       "      <td>0.0</td>\n",
       "      <td>0.0</td>\n",
       "      <td>0.0</td>\n",
       "      <td>0.0</td>\n",
       "      <td>0.0</td>\n",
       "      <td>0.0</td>\n",
       "      <td>0.000000</td>\n",
       "      <td>0.0</td>\n",
       "      <td>0.0</td>\n",
       "      <td>0.0</td>\n",
       "      <td>0.0</td>\n",
       "      <td>0.0</td>\n",
       "      <td>0.0</td>\n",
       "      <td>0.0</td>\n",
       "      <td>0.0</td>\n",
       "      <td>0.0</td>\n",
       "      <td>0.0</td>\n",
       "      <td>0.0</td>\n",
       "      <td>0.0</td>\n",
       "      <td>0.0</td>\n",
       "      <td>0.0</td>\n",
       "      <td>0.0</td>\n",
       "      <td>إيران</td>\n",
       "    </tr>\n",
       "    <tr>\n",
       "      <th>0</th>\n",
       "      <td>0.0</td>\n",
       "      <td>0.0</td>\n",
       "      <td>0.0</td>\n",
       "      <td>0.0</td>\n",
       "      <td>0.0</td>\n",
       "      <td>0.067996</td>\n",
       "      <td>0.0</td>\n",
       "      <td>0.0</td>\n",
       "      <td>0.0</td>\n",
       "      <td>0.0</td>\n",
       "      <td>0.0</td>\n",
       "      <td>0.0</td>\n",
       "      <td>0.0</td>\n",
       "      <td>0.0</td>\n",
       "      <td>0.0</td>\n",
       "      <td>0.0</td>\n",
       "      <td>0.0</td>\n",
       "      <td>0.0</td>\n",
       "      <td>0.0</td>\n",
       "      <td>0.0</td>\n",
       "      <td>0.0</td>\n",
       "      <td>0.0</td>\n",
       "      <td>0.0</td>\n",
       "      <td>0.0</td>\n",
       "      <td>0.0</td>\n",
       "      <td>0.0</td>\n",
       "      <td>0.0</td>\n",
       "      <td>0.0</td>\n",
       "      <td>0.0</td>\n",
       "      <td>0.0</td>\n",
       "      <td>0.0</td>\n",
       "      <td>0.0</td>\n",
       "      <td>0.0</td>\n",
       "      <td>0.0</td>\n",
       "      <td>0.0</td>\n",
       "      <td>0.0</td>\n",
       "      <td>0.0</td>\n",
       "      <td>0.0</td>\n",
       "      <td>0.0</td>\n",
       "      <td>0.0</td>\n",
       "      <td>...</td>\n",
       "      <td>0.0</td>\n",
       "      <td>0.0</td>\n",
       "      <td>0.0</td>\n",
       "      <td>0.0</td>\n",
       "      <td>0.0</td>\n",
       "      <td>0.0</td>\n",
       "      <td>0.0</td>\n",
       "      <td>0.0</td>\n",
       "      <td>0.0</td>\n",
       "      <td>0.0</td>\n",
       "      <td>0.0</td>\n",
       "      <td>0.0</td>\n",
       "      <td>0.0</td>\n",
       "      <td>0.0</td>\n",
       "      <td>0.0</td>\n",
       "      <td>0.0</td>\n",
       "      <td>0.0</td>\n",
       "      <td>0.0</td>\n",
       "      <td>0.0</td>\n",
       "      <td>0.0</td>\n",
       "      <td>0.0</td>\n",
       "      <td>0.0</td>\n",
       "      <td>0.0</td>\n",
       "      <td>0.242134</td>\n",
       "      <td>0.0</td>\n",
       "      <td>0.0</td>\n",
       "      <td>0.0</td>\n",
       "      <td>0.0</td>\n",
       "      <td>0.0</td>\n",
       "      <td>0.0</td>\n",
       "      <td>0.0</td>\n",
       "      <td>0.0</td>\n",
       "      <td>0.0</td>\n",
       "      <td>0.0</td>\n",
       "      <td>0.0</td>\n",
       "      <td>0.0</td>\n",
       "      <td>0.0</td>\n",
       "      <td>0.0</td>\n",
       "      <td>0.0</td>\n",
       "      <td>الأردن</td>\n",
       "    </tr>\n",
       "  </tbody>\n",
       "</table>\n",
       "<p>3 rows × 866 columns</p>\n",
       "</div>"
      ],
      "text/plain": [
       "    آل   آي  أبد  أبرص  أبزون  ...   ين  يوسف  يوسفي  يونس   poet_cat\n",
       "0  0.0  0.0  0.0   0.0    0.0  ...  0.0   0.0    0.0   0.0  أفغانستان\n",
       "0  0.0  0.0  0.0   0.0    0.0  ...  0.0   0.0    0.0   0.0      إيران\n",
       "0  0.0  0.0  0.0   0.0    0.0  ...  0.0   0.0    0.0   0.0     الأردن\n",
       "\n",
       "[3 rows x 866 columns]"
      ]
     },
     "execution_count": 22,
     "metadata": {
      "tags": []
     },
     "output_type": "execute_result"
    }
   ],
   "source": [
    "# how the lookup dataframe looks like\n",
    "TFIDF_df.head(3)"
   ]
  },
  {
   "cell_type": "code",
   "execution_count": 23,
   "metadata": {
    "colab": {
     "base_uri": "https://localhost:8080/",
     "height": 1000
    },
    "colab_type": "code",
    "id": "yGm7vhNVRpV9",
    "outputId": "ae606aa0-8975-48f5-88d0-d7b50ab2160a"
   },
   "outputs": [
    {
     "data": {
      "image/png": "[encoded data removed]",
      "text/plain": [
       "<Figure size 1080x1440 with 6 Axes>"
      ]
     },
     "metadata": {
      "needs_background": "light",
      "tags": []
     },
     "output_type": "display_data"
    }
   ],
   "source": [
    "def check_word_presence(TFIDF_df, word, ax):\n",
    "  '''\n",
    "  This function takes the lookup dataframe and a specific name and\n",
    "  find the TFIDF value of each origin \n",
    "  param TFIDF_df: (DataFrame) the lookup dataframe\n",
    "  param word: (string) name to check its TFIDF per origin\n",
    "  param ax: (plt axis) used to plot the figure\n",
    "  '''\n",
    "  # plot a horizontal bar of the tf-idf values for each origin\n",
    "  ax.barh(y=[get_display(reshaper.reshape(origin)) for origin in TFIDF_df['poet_cat'].tolist()],\n",
    "          width= TFIDF_df[word])\n",
    "  # setting title\n",
    "  ax.set_title(f\"{get_display(reshaper.reshape(word))} TF-IDF based on origin\")\n",
    "\n",
    "\n",
    "# creating main figure\n",
    "fig = plt.figure(figsize=(15,20))\n",
    "\n",
    "# looking over names and using the function to create plots\n",
    "for idx, name in enumerate(['أقرع','أسعد','أعظمي','يوسف','يوسفي','يازجي']):\n",
    "  ax = fig.add_subplot(3,2,idx+1)\n",
    "  check_word_presence(TFIDF_df, name, ax)  "
   ]
  },
  {
   "cell_type": "markdown",
   "metadata": {
    "colab_type": "text",
    "id": "FvHmAv7NcvzR"
   },
   "source": [
    "From the above plots, it appears that some names such as \"يازجي\" helps distinguish an origin. However, some others highlight multiple origins.\n",
    "\n",
    "Overall, i believe that a model with a memory retention ability would benefit from such feature.\n",
    "\n"
   ]
  },
  {
   "cell_type": "markdown",
   "metadata": {
    "colab_type": "text",
    "id": "zsju5YVvqVEy"
   },
   "source": [
    "# 3. Audit the data for missing or extremes values and deal with it reasonably if any"
   ]
  },
  {
   "cell_type": "markdown",
   "metadata": {
    "colab_type": "text",
    "id": "nhcY7xY9MqGx"
   },
   "source": [
    "#### Handling Nulls"
   ]
  },
  {
   "cell_type": "code",
   "execution_count": 24,
   "metadata": {
    "colab": {
     "base_uri": "https://localhost:8080/",
     "height": 34
    },
    "colab_type": "code",
    "id": "EicNO3dbWVKj",
    "outputId": "93d28749-2560-4ab5-9336-d8213684af09"
   },
   "outputs": [
    {
     "name": "stdout",
     "output_type": "stream",
     "text": [
      "Entries with missing values: 1\n"
     ]
    }
   ],
   "source": [
    "print(f'Entries with missing values: {poems.shape[0] - poems.dropna().shape[0]}')"
   ]
  },
  {
   "cell_type": "code",
   "execution_count": 25,
   "metadata": {
    "colab": {
     "base_uri": "https://localhost:8080/",
     "height": 80
    },
    "colab_type": "code",
    "id": "o_gDiWeQoh_y",
    "outputId": "3561c04f-e550-4da8-a106-a37adba75c00"
   },
   "outputs": [
    {
     "data": {
      "text/html": [
       "<div>\n",
       "<style scoped>\n",
       "    .dataframe tbody tr th:only-of-type {\n",
       "        vertical-align: middle;\n",
       "    }\n",
       "\n",
       "    .dataframe tbody tr th {\n",
       "        vertical-align: top;\n",
       "    }\n",
       "\n",
       "    .dataframe thead th {\n",
       "        text-align: right;\n",
       "    }\n",
       "</style>\n",
       "<table border=\"1\" class=\"dataframe\">\n",
       "  <thead>\n",
       "    <tr style=\"text-align: right;\">\n",
       "      <th></th>\n",
       "      <th>poem_id</th>\n",
       "      <th>poem_link</th>\n",
       "      <th>poem_style</th>\n",
       "      <th>poem_text</th>\n",
       "      <th>poem_title</th>\n",
       "      <th>poet_cat</th>\n",
       "      <th>poet_id</th>\n",
       "      <th>poet_link</th>\n",
       "      <th>poet_name</th>\n",
       "    </tr>\n",
       "  </thead>\n",
       "  <tbody>\n",
       "    <tr>\n",
       "      <th>2454</th>\n",
       "      <td>6200</td>\n",
       "      <td>http://www.adab.com/modules.php?name=Sh3er&amp;doWhat=shqas&amp;qid=6200&amp;r=&amp;rc=282</td>\n",
       "      <td>فصحى</td>\n",
       "      <td>NaN</td>\n",
       "      <td>الأشباح</td>\n",
       "      <td>البحرين</td>\n",
       "      <td>68</td>\n",
       "      <td>http://www.adab.com/modules.php?name=Sh3er&amp;doWhat=lsq&amp;shid=68&amp;start=0</td>\n",
       "      <td>قاسم حداد</td>\n",
       "    </tr>\n",
       "  </tbody>\n",
       "</table>\n",
       "</div>"
      ],
      "text/plain": [
       "      poem_id  ...  poet_name\n",
       "2454     6200  ...  قاسم حداد\n",
       "\n",
       "[1 rows x 9 columns]"
      ]
     },
     "execution_count": 25,
     "metadata": {
      "tags": []
     },
     "output_type": "execute_result"
    }
   ],
   "source": [
    "# viewing the entries containing empty features\n",
    "poems[poems.isnull().any(axis=1)]"
   ]
  },
  {
   "cell_type": "code",
   "execution_count": 26,
   "metadata": {
    "colab": {},
    "colab_type": "code",
    "id": "_1tKeVTrbjOT"
   },
   "outputs": [],
   "source": [
    "# sice its only 1 row, will remove it\n",
    "poems.dropna(inplace=True)"
   ]
  },
  {
   "cell_type": "markdown",
   "metadata": {
    "colab_type": "text",
    "id": "7RJXZFsmT1oj"
   },
   "source": [
    "### Dropping Iraq and shaam poems\n",
    "As explained in the EDA section, there is already a category for Iraq and another for Syria. Hence, the \"Iraq and Shaam\" category needs to be removed to avoide overlapping.\n",
    "\n",
    "(A better idea is to group origins with small samples)"
   ]
  },
  {
   "cell_type": "code",
   "execution_count": 27,
   "metadata": {
    "colab": {},
    "colab_type": "code",
    "id": "kaDAWd5VUjHY"
   },
   "outputs": [],
   "source": [
    "poems.drop(index= poems[poems['poet_cat']=='شعراء العراق والشام'].index, inplace=True)\n",
    "poems.reset_index(drop=True, inplace=True)"
   ]
  },
  {
   "cell_type": "markdown",
   "metadata": {
    "colab_type": "text",
    "id": "j_mv43P9NK6e"
   },
   "source": [
    "### Reduce entries of Abbasi poet origin\n",
    "Currently, the count of entries with abbasi origin is overwhelming."
   ]
  },
  {
   "cell_type": "code",
   "execution_count": 28,
   "metadata": {
    "colab": {},
    "colab_type": "code",
    "id": "0W807nmCN9f0"
   },
   "outputs": [],
   "source": [
    "# so dataframe doesnt display the whole poem\n",
    "pd.set_option('display.max_colwidth', 50)"
   ]
  },
  {
   "cell_type": "code",
   "execution_count": 29,
   "metadata": {
    "colab": {
     "base_uri": "https://localhost:8080/",
     "height": 34
    },
    "colab_type": "code",
    "id": "vmkbYERaNamD",
    "outputId": "1d095e26-cbdd-4f3c-ebcb-ac6a08a1831c"
   },
   "outputs": [
    {
     "name": "stdout",
     "output_type": "stream",
     "text": [
      "Need to trim 13121 rows\n"
     ]
    }
   ],
   "source": [
    "# high will have the number of abbasi count, low will have andalusi count (second highest)\n",
    "# the plan is to bring down abbasi count to be equal to andalusi\n",
    "high, low = poems.groupby('poet_cat')['poet_cat'].count().sort_values(ascending=False)[:2].values\n",
    "print(f'Need to trim {high-low} rows')"
   ]
  },
  {
   "cell_type": "code",
   "execution_count": 30,
   "metadata": {
    "colab": {},
    "colab_type": "code",
    "id": "4mfVG2gPNarW"
   },
   "outputs": [],
   "source": [
    "# select samples to remove\n",
    "_, remove = train_test_split(poems[poems['poet_cat'] == 'العصر العباسي'], test_size=high-low)\n",
    "\n",
    "# drop the selected samples from the main dataframe\n",
    "poems.drop(index=remove.index.values, inplace=True)"
   ]
  },
  {
   "cell_type": "code",
   "execution_count": 31,
   "metadata": {
    "colab": {
     "base_uri": "https://localhost:8080/",
     "height": 607
    },
    "colab_type": "code",
    "id": "1l2Z7YtUTiW3",
    "outputId": "a441162d-5192-46a4-93a7-3b99ed3aa6ff"
   },
   "outputs": [
    {
     "data": {
      "image/png": "[encoded data removed]",
      "text/plain": [
       "<Figure size 720x720 with 1 Axes>"
      ]
     },
     "metadata": {
      "needs_background": "light",
      "tags": []
     },
     "output_type": "display_data"
    }
   ],
   "source": [
    "# How the count looks after dropping\n",
    "show_unique(poems, ['poet_cat'])"
   ]
  },
  {
   "cell_type": "markdown",
   "metadata": {
    "colab_type": "text",
    "id": "wr1KS5xt9z6_"
   },
   "source": [
    "# 4. Drive new variables from the current variables that may be useful in the modelling (Optional).\n"
   ]
  },
  {
   "cell_type": "markdown",
   "metadata": {
    "colab_type": "text",
    "id": "RuS0GXPyja8_"
   },
   "source": [
    "#### Visualizing the word count distribution of poet_name + poem_title\n",
    "\n",
    "We are going to create a feature which consist of the ID numbers of each suffix/ prefix/ word in the dictionary. Which facilitates the operation of passing these inputs to the model.\n",
    "\n",
    "However, since the encoded feature's length needs to be standardized, the first step is to find the distribution of the length of these two words to determine the optimal standard size.\n",
    "\n"
   ]
  },
  {
   "cell_type": "code",
   "execution_count": 32,
   "metadata": {
    "colab": {},
    "colab_type": "code",
    "id": "4T2i0MNJjhXW"
   },
   "outputs": [],
   "source": [
    "# finding the length for names and poem titles\n",
    "name_lengths = np.array([len(name.split(' ')) for name in poems['poet_name']])\n",
    "title_lengths = np.array([len(title.split(' ')) for title in poems['poem_title']])\n",
    "\n",
    "# adding the length of each name with the length of each title\n",
    "total = name_lengths + title_lengths"
   ]
  },
  {
   "cell_type": "code",
   "execution_count": 33,
   "metadata": {
    "colab": {
     "base_uri": "https://localhost:8080/",
     "height": 265
    },
    "colab_type": "code",
    "id": "PEdwp15FjhZ3",
    "outputId": "1d9c0e7e-e70b-469b-d500-1a4ec4cf53f2"
   },
   "outputs": [
    {
     "data": {
      "image/png": "[encoded data removed]",
      "text/plain": [
       "<Figure size 432x288 with 1 Axes>"
      ]
     },
     "metadata": {
      "needs_background": "light",
      "tags": []
     },
     "output_type": "display_data"
    }
   ],
   "source": [
    "# plotting the distribution\n",
    "ax = plt.subplot(111)\n",
    "ax.hist(total,100)\n",
    "\n",
    "#truncating to 1k to make it clearer\n",
    "\n",
    "ax.set_xlim((0,25))\n",
    "plt.show()"
   ]
  },
  {
   "cell_type": "markdown",
   "metadata": {
    "colab_type": "text",
    "id": "Tk_jJK9Dmujx"
   },
   "source": [
    "Majority of poet name and poem title combination has a word count of 6 to 10 words.\n",
    "\n",
    "However, when using Farasa segmenter, the suffex and prefix will be attached from words and will be registered as separate words which could tripple the count. Hence, to be safe, we will take a standard size of 30 characters. "
   ]
  },
  {
   "cell_type": "code",
   "execution_count": 34,
   "metadata": {
    "colab": {},
    "colab_type": "code",
    "id": "1_WKz5LnDxuO"
   },
   "outputs": [],
   "source": [
    "# declaring standard sequence size is 30\n",
    "STANDARD_LEN = 30"
   ]
  },
  {
   "cell_type": "markdown",
   "metadata": {
    "colab_type": "text",
    "id": "8zT7dd1l2W1S"
   },
   "source": [
    "### Encode poet name and poet title into a new feature\n",
    "\n",
    "Below we encode the two features (poet name and poem title) using AraBERT tokenizer which uses Farasa to segment words before converting them to IDs\n",
    "\n",
    "I chosed AraBERT due to the following\n",
    "* has a large dictionary\n",
    "* ability to encode special characters\n",
    "  * [SEP] enables us to pass multiple fetures\n",
    "* Uses Farasa to segment words\n"
   ]
  },
  {
   "cell_type": "code",
   "execution_count": 35,
   "metadata": {
    "colab": {},
    "colab_type": "code",
    "id": "DbhKMA5X2VjC"
   },
   "outputs": [],
   "source": [
    "def encode(word, word2, maxlen=100):\n",
    "  '''\n",
    "  This function takes 2 words and uses Huggingface AraBERT to convert it to IDs\n",
    "  param word: (string) first feature\n",
    "  param word2: (string) second feature\n",
    "  param maxlen: maximum length, which the 2 words will be padded to / truncated to\n",
    "  output: (list) a list of prefix/suffix/special characters or words in IDs\n",
    "  '''\n",
    "\n",
    "  # we are using arabert to tokenize due to its big dictionary\n",
    "  # and the ability to encode special characters such as [SEP] and [CLS]\n",
    "  return arabert_tokenizer.encode(\n",
    "        word,word2,\n",
    "        truncation=True,\n",
    "        max_length=maxlen,\n",
    "        add_special_tokens=True,\n",
    "        padding='max_length',\n",
    "        return_attention_mask=False,\n",
    "        return_token_type_ids=False)"
   ]
  },
  {
   "cell_type": "code",
   "execution_count": 36,
   "metadata": {
    "colab": {},
    "colab_type": "code",
    "id": "gHt_vc-m3Qg2"
   },
   "outputs": [],
   "source": [
    "encoded = []\n",
    "\n",
    "# using the above function to encode poet name and poem title \n",
    "for idx, row in poems.iterrows():\n",
    "  encoded.append(np.array(encode(row['poet_name'], row['poem_title'], maxlen=STANDARD_LEN)))\n",
    "poems['encodes'] = encoded"
   ]
  },
  {
   "cell_type": "markdown",
   "metadata": {
    "colab_type": "text",
    "id": "K-ZEvycrFier"
   },
   "source": [
    "# 5. Mention a method for selecting the significant variables (Optional, for NLP task only).\n",
    "\n",
    "\n"
   ]
  },
  {
   "cell_type": "markdown",
   "metadata": {
    "colab_type": "text",
    "id": "e9nKexqXHnVY"
   },
   "source": [
    "At the end of the EDA section, we showed how the poet name could benefit the model as some origins can be highlighted with a set of names. Hence, poet_name was selected to be one of the significant variable.\n",
    "\n",
    "Another significant variable is the poem title. as explained earlier, this is due to the meaning which it holds. A title is an overall summary of the poem. furthermore, each origin has a culture which affects the topic of poems, dilects and words used. Therefore, the poem_title was sellected."
   ]
  },
  {
   "cell_type": "markdown",
   "metadata": {
    "colab_type": "text",
    "id": "ZgWJR39Qq8Pa"
   },
   "source": [
    "# 7. Mention the type of modelling that is suitable for the problem and describe your criteria for the selection (Decision Tree, linear regression or Deep learning, etc.)\n",
    "\n",
    "We have poet name and poem title encoded into a vector.\n",
    "\n",
    "A model with memory retention ability could benefit from the poet name to classify origin. Furthermore, word embedding is needed to capture semantic similarity between words which, i think, will improve performance.\n",
    "\n",
    "\n",
    "Our model will be an Long Short Term Memory(LSTM) model with a word embedding input layer.\n"
   ]
  },
  {
   "cell_type": "markdown",
   "metadata": {
    "colab_type": "text",
    "id": "avKywLO6wvCb"
   },
   "source": [
    "### Preparing train and validation and test set"
   ]
  },
  {
   "cell_type": "code",
   "execution_count": 39,
   "metadata": {
    "colab": {
     "base_uri": "https://localhost:8080/",
     "height": 68
    },
    "colab_type": "code",
    "id": "1uMHymiDwufT",
    "outputId": "391c0c3e-f32f-44e6-8ea4-e83bce33ee7c"
   },
   "outputs": [
    {
     "name": "stdout",
     "output_type": "stream",
     "text": [
      "Train: 28691\n",
      "Validation: 7173\n",
      "Test: 8967\n"
     ]
    }
   ],
   "source": [
    "# resetting index (because we dropped entries during cleaning)\n",
    "poems.reset_index(drop=True, inplace=True)\n",
    "\n",
    "# stratified split based on label 20% test\n",
    "train_val_df, test_df = train_test_split(poems[['encodes','poet_cat']].copy(), stratify=poems['poet_cat'].tolist(), test_size=0.2)\n",
    "\n",
    "# Further splitting trainset to validation (20%)\n",
    "train_val_df.reset_index(drop=True, inplace=True)\n",
    "train_df, val_df = train_test_split(train_val_df[['encodes','poet_cat']], stratify=train_val_df['poet_cat'].tolist(), test_size=0.2)\n",
    "print(f'Train: {train_df.shape[0]}\\nValidation: {val_df.shape[0]}\\nTest: {test_df.shape[0]}')"
   ]
  },
  {
   "cell_type": "code",
   "execution_count": 40,
   "metadata": {
    "colab": {
     "base_uri": "https://localhost:8080/",
     "height": 111
    },
    "colab_type": "code",
    "id": "dfGgD02qyTjf",
    "outputId": "e8510d52-855b-4237-cc71-3b60defcd010"
   },
   "outputs": [
    {
     "data": {
      "text/html": [
       "<div>\n",
       "<style scoped>\n",
       "    .dataframe tbody tr th:only-of-type {\n",
       "        vertical-align: middle;\n",
       "    }\n",
       "\n",
       "    .dataframe tbody tr th {\n",
       "        vertical-align: top;\n",
       "    }\n",
       "\n",
       "    .dataframe thead th {\n",
       "        text-align: right;\n",
       "    }\n",
       "</style>\n",
       "<table border=\"1\" class=\"dataframe\">\n",
       "  <thead>\n",
       "    <tr style=\"text-align: right;\">\n",
       "      <th></th>\n",
       "      <th>encodes</th>\n",
       "      <th>poet_cat</th>\n",
       "    </tr>\n",
       "  </thead>\n",
       "  <tbody>\n",
       "    <tr>\n",
       "      <th>0</th>\n",
       "      <td>[29756, 39512, 23803, 445, 981, 1001, 5, 19068...</td>\n",
       "      <td>الأردن</td>\n",
       "    </tr>\n",
       "    <tr>\n",
       "      <th>1</th>\n",
       "      <td>[29756, 5468, 22635, 20492, 980, 29758, 29759,...</td>\n",
       "      <td>العراق</td>\n",
       "    </tr>\n",
       "  </tbody>\n",
       "</table>\n",
       "</div>"
      ],
      "text/plain": [
       "                                             encodes poet_cat\n",
       "0  [29756, 39512, 23803, 445, 981, 1001, 5, 19068...   الأردن\n",
       "1  [29756, 5468, 22635, 20492, 980, 29758, 29759,...   العراق"
      ]
     },
     "execution_count": 40,
     "metadata": {
      "tags": []
     },
     "output_type": "execute_result"
    }
   ],
   "source": [
    "# Resetting index to start from 0\n",
    "train_df.reset_index(drop=True, inplace=True)\n",
    "train_df.head(2)"
   ]
  },
  {
   "cell_type": "code",
   "execution_count": 41,
   "metadata": {
    "colab": {
     "base_uri": "https://localhost:8080/",
     "height": 111
    },
    "colab_type": "code",
    "id": "sLb7sp3YyUHv",
    "outputId": "30a86e74-7b3b-4064-9513-e445307a3417"
   },
   "outputs": [
    {
     "data": {
      "text/html": [
       "<div>\n",
       "<style scoped>\n",
       "    .dataframe tbody tr th:only-of-type {\n",
       "        vertical-align: middle;\n",
       "    }\n",
       "\n",
       "    .dataframe tbody tr th {\n",
       "        vertical-align: top;\n",
       "    }\n",
       "\n",
       "    .dataframe thead th {\n",
       "        text-align: right;\n",
       "    }\n",
       "</style>\n",
       "<table border=\"1\" class=\"dataframe\">\n",
       "  <thead>\n",
       "    <tr style=\"text-align: right;\">\n",
       "      <th></th>\n",
       "      <th>encodes</th>\n",
       "      <th>poet_cat</th>\n",
       "    </tr>\n",
       "  </thead>\n",
       "  <tbody>\n",
       "    <tr>\n",
       "      <th>0</th>\n",
       "      <td>[29756, 5471, 49801, 29758, 4782, 29758, 29757...</td>\n",
       "      <td>سوريا</td>\n",
       "    </tr>\n",
       "    <tr>\n",
       "      <th>1</th>\n",
       "      <td>[29756, 5340, 445, 44540, 12134, 445, 45021, 5...</td>\n",
       "      <td>مصر</td>\n",
       "    </tr>\n",
       "  </tbody>\n",
       "</table>\n",
       "</div>"
      ],
      "text/plain": [
       "                                             encodes poet_cat\n",
       "0  [29756, 5471, 49801, 29758, 4782, 29758, 29757...    سوريا\n",
       "1  [29756, 5340, 445, 44540, 12134, 445, 45021, 5...      مصر"
      ]
     },
     "execution_count": 41,
     "metadata": {
      "tags": []
     },
     "output_type": "execute_result"
    }
   ],
   "source": [
    "# Resetting index to start from 0\n",
    "test_df.reset_index(drop=True, inplace=True)\n",
    "test_df.head(2)"
   ]
  },
  {
   "cell_type": "code",
   "execution_count": 42,
   "metadata": {
    "colab": {
     "base_uri": "https://localhost:8080/",
     "height": 111
    },
    "colab_type": "code",
    "id": "LbJeGiBwdioD",
    "outputId": "168e435e-d5a7-49fd-e7dc-25565af6561d"
   },
   "outputs": [
    {
     "data": {
      "text/html": [
       "<div>\n",
       "<style scoped>\n",
       "    .dataframe tbody tr th:only-of-type {\n",
       "        vertical-align: middle;\n",
       "    }\n",
       "\n",
       "    .dataframe tbody tr th {\n",
       "        vertical-align: top;\n",
       "    }\n",
       "\n",
       "    .dataframe thead th {\n",
       "        text-align: right;\n",
       "    }\n",
       "</style>\n",
       "<table border=\"1\" class=\"dataframe\">\n",
       "  <thead>\n",
       "    <tr style=\"text-align: right;\">\n",
       "      <th></th>\n",
       "      <th>encodes</th>\n",
       "      <th>poet_cat</th>\n",
       "    </tr>\n",
       "  </thead>\n",
       "  <tbody>\n",
       "    <tr>\n",
       "      <th>0</th>\n",
       "      <td>[29756, 5468, 445, 28444, 27526, 29758, 5907, ...</td>\n",
       "      <td>البحرين</td>\n",
       "    </tr>\n",
       "    <tr>\n",
       "      <th>1</th>\n",
       "      <td>[29756, 5340, 445, 28784, 445, 45803, 7996, 29...</td>\n",
       "      <td>سوريا</td>\n",
       "    </tr>\n",
       "  </tbody>\n",
       "</table>\n",
       "</div>"
      ],
      "text/plain": [
       "                                             encodes poet_cat\n",
       "0  [29756, 5468, 445, 28444, 27526, 29758, 5907, ...  البحرين\n",
       "1  [29756, 5340, 445, 28784, 445, 45803, 7996, 29...    سوريا"
      ]
     },
     "execution_count": 42,
     "metadata": {
      "tags": []
     },
     "output_type": "execute_result"
    }
   ],
   "source": [
    "# same for validation\n",
    "val_df.reset_index(drop=True, inplace=True)\n",
    "val_df.head(2)"
   ]
  },
  {
   "cell_type": "markdown",
   "metadata": {
    "colab_type": "text",
    "id": "jw2rNjORdvk7"
   },
   "source": [
    "Separating X and y features for both Train and Test sets"
   ]
  },
  {
   "cell_type": "code",
   "execution_count": 43,
   "metadata": {
    "colab": {},
    "colab_type": "code",
    "id": "R-Ji0KPGkpmM"
   },
   "outputs": [],
   "source": [
    "# Getting the label names of the y feature (origin)\n",
    "labels = pd.get_dummies(poems['poet_cat']).columns.values"
   ]
  },
  {
   "cell_type": "code",
   "execution_count": 44,
   "metadata": {
    "colab": {},
    "colab_type": "code",
    "id": "5DuvmhnRdodh"
   },
   "outputs": [],
   "source": [
    "# one hot encode y\n",
    "train_y = pd.get_dummies(train_df.pop('poet_cat')).to_numpy()\n",
    "# same process on val\n",
    "val_y = pd.get_dummies(val_df.pop('poet_cat')).to_numpy()\n"
   ]
  },
  {
   "cell_type": "code",
   "execution_count": 45,
   "metadata": {
    "colab": {},
    "colab_type": "code",
    "id": "WOxU26oENqkL"
   },
   "outputs": [],
   "source": [
    "# X will be a list of encoded features (batch_size, vector_size)\n",
    "train_X = np.stack(train_df['encodes'].values)\n",
    "val_X = np.stack(val_df['encodes'].values)\n"
   ]
  },
  {
   "cell_type": "markdown",
   "metadata": {
    "colab_type": "text",
    "id": "mPT1ii6-RHgT"
   },
   "source": [
    "### Calculating clas weight to help with imbalance data"
   ]
  },
  {
   "cell_type": "code",
   "execution_count": 46,
   "metadata": {
    "colab": {
     "base_uri": "https://localhost:8080/",
     "height": 68
    },
    "colab_type": "code",
    "id": "rO8GRQdGRG5F",
    "outputId": "e556a425-fa3d-4a2c-e02a-2866fd70432f"
   },
   "outputs": [
    {
     "data": {
      "text/plain": [
       "array([  45,   58,  170,  360,  354,  259, 1236,  258, 2721, 4029, 2368,\n",
       "        935, 4029,   34,  130,  448,  225, 3223,  396, 1096,   14, 3072,\n",
       "        154, 3067,   10], dtype=uint64)"
      ]
     },
     "execution_count": 46,
     "metadata": {
      "tags": []
     },
     "output_type": "execute_result"
    }
   ],
   "source": [
    "# conting the occurance of each origin\n",
    "weightage = train_y.sum(axis=0)\n",
    "weightage"
   ]
  },
  {
   "cell_type": "code",
   "execution_count": 47,
   "metadata": {
    "colab": {
     "base_uri": "https://localhost:8080/",
     "height": 136
    },
    "colab_type": "code",
    "id": "9GSYaw2YRU67",
    "outputId": "20fd54b9-c37d-45ec-fe2d-2882827f21ff"
   },
   "outputs": [
    {
     "data": {
      "text/plain": [
       "array([ 637.57777778,  494.67241379,  168.77058824,   79.69722222,\n",
       "         81.0480226 ,  110.77606178,   23.21278317,  111.20542636,\n",
       "         10.54428519,    7.12112187,   12.11613176,   30.6855615 ,\n",
       "          7.12112187,  843.85294118,  220.7       ,   64.04241071,\n",
       "        127.51555556,    8.9019547 ,   72.4520202 ,   26.17791971,\n",
       "       2049.35714286,    9.33951823,  186.30519481,    9.35474405,\n",
       "       2869.1       ])"
      ]
     },
     "execution_count": 47,
     "metadata": {
      "tags": []
     },
     "output_type": "execute_result"
    }
   ],
   "source": [
    "# favouring origins with low occurances\n",
    "weightage = (weightage.sum()/weightage)\n",
    "weightage"
   ]
  },
  {
   "cell_type": "code",
   "execution_count": 48,
   "metadata": {
    "colab": {
     "base_uri": "https://localhost:8080/",
     "height": 102
    },
    "colab_type": "code",
    "id": "C7kEt0BYTo-j",
    "outputId": "1a616d8f-9b98-40a3-baac-ad205a0353d9"
   },
   "outputs": [
    {
     "data": {
      "text/plain": [
       "array([0.22222222, 0.17241379, 0.05882353, 0.02777778, 0.02824859,\n",
       "       0.03861004, 0.00809061, 0.03875969, 0.00367512, 0.00248201,\n",
       "       0.00422297, 0.01069519, 0.00248201, 0.29411765, 0.07692308,\n",
       "       0.02232143, 0.04444444, 0.0031027 , 0.02525253, 0.00912409,\n",
       "       0.71428571, 0.00325521, 0.06493506, 0.00326052, 1.        ])"
      ]
     },
     "execution_count": 48,
     "metadata": {
      "tags": []
     },
     "output_type": "execute_result"
    }
   ],
   "source": [
    "# normalizing weights\n",
    "weightage = weightage/weightage.max()\n",
    "weightage"
   ]
  },
  {
   "cell_type": "code",
   "execution_count": 49,
   "metadata": {
    "colab": {
     "base_uri": "https://localhost:8080/",
     "height": 442
    },
    "colab_type": "code",
    "id": "YHIT0pt3T5XW",
    "outputId": "dd10bd18-f762-4a88-d8f6-92646a2e8ba1"
   },
   "outputs": [
    {
     "data": {
      "text/plain": [
       "{0: 0.22222222222222224,\n",
       " 1: 0.1724137931034483,\n",
       " 2: 0.05882352941176471,\n",
       " 3: 0.02777777777777778,\n",
       " 4: 0.028248587570621472,\n",
       " 5: 0.038610038610038616,\n",
       " 6: 0.008090614886731393,\n",
       " 7: 0.03875968992248062,\n",
       " 8: 0.003675119441381845,\n",
       " 9: 0.002482005460412013,\n",
       " 10: 0.004222972972972973,\n",
       " 11: 0.010695187165775402,\n",
       " 12: 0.002482005460412013,\n",
       " 13: 0.29411764705882354,\n",
       " 14: 0.07692307692307693,\n",
       " 15: 0.02232142857142857,\n",
       " 16: 0.044444444444444446,\n",
       " 17: 0.003102699348433137,\n",
       " 18: 0.025252525252525256,\n",
       " 19: 0.009124087591240877,\n",
       " 20: 0.7142857142857142,\n",
       " 21: 0.003255208333333333,\n",
       " 22: 0.06493506493506494,\n",
       " 23: 0.0032605151613955006,\n",
       " 24: 1.0}"
      ]
     },
     "execution_count": 49,
     "metadata": {
      "tags": []
     },
     "output_type": "execute_result"
    }
   ],
   "source": [
    "# converting to a dectionary where key is class number \n",
    "class_weights = {key: val for key, val in enumerate(weightage)}\n",
    "class_weights"
   ]
  },
  {
   "cell_type": "markdown",
   "metadata": {
    "colab_type": "text",
    "id": "jaxcwqe7vXP_"
   },
   "source": [
    "### Model construction and Training"
   ]
  },
  {
   "cell_type": "code",
   "execution_count": 50,
   "metadata": {
    "colab": {
     "base_uri": "https://localhost:8080/",
     "height": 289
    },
    "colab_type": "code",
    "id": "kzHk7qvyh6sj",
    "outputId": "b919ee06-6126-4092-9ad2-a468ee662e92"
   },
   "outputs": [
    {
     "name": "stdout",
     "output_type": "stream",
     "text": [
      "Model: \"sequential\"\n",
      "_________________________________________________________________\n",
      "Layer (type)                 Output Shape              Param #   \n",
      "=================================================================\n",
      "embedding (Embedding)        (None, 30, 64)            4095936   \n",
      "_________________________________________________________________\n",
      "lstm (LSTM)                  (None, 30, 64)            33024     \n",
      "_________________________________________________________________\n",
      "lstm_1 (LSTM)                (None, 32)                12416     \n",
      "_________________________________________________________________\n",
      "dense (Dense)                (None, 25)                825       \n",
      "=================================================================\n",
      "Total params: 4,142,201\n",
      "Trainable params: 4,142,201\n",
      "Non-trainable params: 0\n",
      "_________________________________________________________________\n"
     ]
    }
   ],
   "source": [
    "# creating a sequential model\n",
    "model = tf.keras.Sequential()\n",
    "\n",
    "# first layer is the embedding layer\n",
    "# 63999 is the number of words in AraBert dictionary\n",
    "model.add(tf.keras.layers.Embedding(63999, 64, input_length=STANDARD_LEN))\n",
    "\n",
    "# Followed by 2 lstm layers\n",
    "model.add(tf.keras.layers.LSTM(64, dropout=0.3, return_sequences=True))\n",
    "\n",
    "model.add(tf.keras.layers.LSTM(32, return_sequences=False))\n",
    "\n",
    "#  Dense layer with softmax for categorical output\n",
    "model.add(tf.keras.layers.Dense(len(train_y[0]), activation='softmax'))\n",
    "\n",
    "optimizer = tf.keras.optimizers.Adam(learning_rate=3e-4)\n",
    "\n",
    "model.compile(loss='categorical_crossentropy', optimizer=optimizer,\n",
    "              metrics='categorical_accuracy')\n",
    "model.summary()"
   ]
  },
  {
   "cell_type": "code",
   "execution_count": 51,
   "metadata": {
    "colab": {
     "base_uri": "https://localhost:8080/",
     "height": 697
    },
    "colab_type": "code",
    "id": "gvs0954A2sNc",
    "outputId": "3393b8bc-91f9-49ce-b29f-fa6e7c031f07"
   },
   "outputs": [
    {
     "name": "stdout",
     "output_type": "stream",
     "text": [
      "Epoch 1/20\n",
      "225/225 [==============================] - 26s 117ms/step - loss: 0.0276 - categorical_accuracy: 0.0340 - val_loss: 2.7636 - val_categorical_accuracy: 0.0330\n",
      "Epoch 2/20\n",
      "225/225 [==============================] - 25s 111ms/step - loss: 0.0245 - categorical_accuracy: 0.0640 - val_loss: 2.5185 - val_categorical_accuracy: 0.0829\n",
      "Epoch 3/20\n",
      "225/225 [==============================] - 25s 109ms/step - loss: 0.0238 - categorical_accuracy: 0.1173 - val_loss: 2.5302 - val_categorical_accuracy: 0.0024\n",
      "Epoch 4/20\n",
      "225/225 [==============================] - 25s 112ms/step - loss: 0.0236 - categorical_accuracy: 0.0801 - val_loss: 2.5142 - val_categorical_accuracy: 0.0909\n",
      "Epoch 5/20\n",
      "225/225 [==============================] - 25s 113ms/step - loss: 0.0232 - categorical_accuracy: 0.0981 - val_loss: 2.4628 - val_categorical_accuracy: 0.0841\n",
      "Epoch 6/20\n",
      "225/225 [==============================] - 26s 117ms/step - loss: 0.0228 - categorical_accuracy: 0.2046 - val_loss: 2.3501 - val_categorical_accuracy: 0.1903\n",
      "Epoch 7/20\n",
      "225/225 [==============================] - 30s 132ms/step - loss: 0.0207 - categorical_accuracy: 0.2522 - val_loss: 1.9108 - val_categorical_accuracy: 0.3929\n",
      "Epoch 8/20\n",
      "225/225 [==============================] - 29s 129ms/step - loss: 0.0179 - categorical_accuracy: 0.3922 - val_loss: 1.6386 - val_categorical_accuracy: 0.5118\n",
      "Epoch 9/20\n",
      "225/225 [==============================] - 26s 115ms/step - loss: 0.0161 - categorical_accuracy: 0.4872 - val_loss: 2.0590 - val_categorical_accuracy: 0.4520\n",
      "Epoch 10/20\n",
      "225/225 [==============================] - 26s 114ms/step - loss: 0.0146 - categorical_accuracy: 0.5433 - val_loss: 1.3821 - val_categorical_accuracy: 0.5519\n",
      "Epoch 11/20\n",
      "225/225 [==============================] - 25s 113ms/step - loss: 0.0129 - categorical_accuracy: 0.6296 - val_loss: 1.1754 - val_categorical_accuracy: 0.7051\n",
      "Epoch 12/20\n",
      "225/225 [==============================] - 26s 114ms/step - loss: 0.0122 - categorical_accuracy: 0.6580 - val_loss: 1.0102 - val_categorical_accuracy: 0.8006\n",
      "Epoch 13/20\n",
      "225/225 [==============================] - 25s 113ms/step - loss: 0.0107 - categorical_accuracy: 0.7438 - val_loss: 0.9830 - val_categorical_accuracy: 0.7163\n",
      "Epoch 14/20\n",
      "225/225 [==============================] - 26s 114ms/step - loss: 0.0103 - categorical_accuracy: 0.7469 - val_loss: 0.8202 - val_categorical_accuracy: 0.8271\n",
      "Epoch 15/20\n",
      "225/225 [==============================] - 25s 113ms/step - loss: 0.0095 - categorical_accuracy: 0.7724 - val_loss: 0.8960 - val_categorical_accuracy: 0.7518\n",
      "Epoch 16/20\n",
      "225/225 [==============================] - 25s 113ms/step - loss: 0.0088 - categorical_accuracy: 0.7831 - val_loss: 0.6947 - val_categorical_accuracy: 0.8609\n",
      "Epoch 17/20\n",
      "225/225 [==============================] - 26s 113ms/step - loss: 0.0083 - categorical_accuracy: 0.8005 - val_loss: 0.6580 - val_categorical_accuracy: 0.8613\n",
      "Epoch 18/20\n",
      "225/225 [==============================] - 26s 114ms/step - loss: 0.0069 - categorical_accuracy: 0.8641 - val_loss: 0.6278 - val_categorical_accuracy: 0.8697\n",
      "Epoch 19/20\n",
      "225/225 [==============================] - 27s 119ms/step - loss: 0.0061 - categorical_accuracy: 0.8654 - val_loss: 0.5450 - val_categorical_accuracy: 0.8546\n",
      "Epoch 20/20\n",
      "225/225 [==============================] - 32s 143ms/step - loss: 0.0057 - categorical_accuracy: 0.8806 - val_loss: 0.5228 - val_categorical_accuracy: 0.9193\n"
     ]
    }
   ],
   "source": [
    "# using a model checkpoint to save the model with the lowest validation loss\n",
    "cb = tf.keras.callbacks.ModelCheckpoint(\n",
    "    filepath=\"origin_classifier_lstm.h5\",\n",
    "    save_weights_only=True,\n",
    "    monitor='val_loss',\n",
    "    mode='min',\n",
    "    save_best_only=True)\n",
    "\n",
    "# Training model using the train and validation sets\n",
    "# also using class weights to compensate minority classes\n",
    "history = model.fit(x=train_X, y=train_y, validation_data=(val_X, val_y),\n",
    "          epochs=20, batch_size= 128, class_weight=class_weights,\n",
    "          callbacks=[cb])"
   ]
  },
  {
   "cell_type": "markdown",
   "metadata": {
    "colab_type": "text",
    "id": "Aoh3Yxq5bPxK"
   },
   "source": [
    "Note: The model converges much slower than when trained without applying class werights. I believe this is due to the minority class being recognized now compared to before applying weights (model used to be biased towards the large groups and treat minorities as noise)"
   ]
  },
  {
   "cell_type": "markdown",
   "metadata": {
    "colab_type": "text",
    "id": "-0mjYtUurEmC"
   },
   "source": [
    "# 8. Interpret the result of the modelling technique.\n"
   ]
  },
  {
   "cell_type": "code",
   "execution_count": 58,
   "metadata": {
    "colab": {
     "base_uri": "https://localhost:8080/",
     "height": 336
    },
    "colab_type": "code",
    "id": "f0dVX8tJtJjF",
    "outputId": "55a31755-b95e-445f-b546-6f0d2c9a246c"
   },
   "outputs": [
    {
     "data": {
      "image/png": "[encoded data removed]",
      "text/plain": [
       "<Figure size 1440x360 with 2 Axes>"
      ]
     },
     "metadata": {
      "needs_background": "light",
      "tags": []
     },
     "output_type": "display_data"
    }
   ],
   "source": [
    "fig = plt.figure(figsize=(20,5))\n",
    "\n",
    "ax = fig.add_subplot(1,2,1)\n",
    "ax.plot(history.history['categorical_accuracy'], label='train')\n",
    "ax.plot(history.history['val_categorical_accuracy'], label='Validation')\n",
    "ax.legend()\n",
    "ax.set_title(\"Model categorical accuracy\")\n",
    "\n",
    "ax1 = fig.add_subplot(1,2,2)\n",
    "ax1.plot(history.history['loss'], label='train')\n",
    "ax1.plot(history.history['val_loss'], label='Validation')\n",
    "ax1.legend()\n",
    "ax1.set_title(\"Model CrossEntropy loss\")\n",
    "plt.show()"
   ]
  },
  {
   "cell_type": "markdown",
   "metadata": {
    "colab_type": "text",
    "id": "ZSfBki9At1Ck"
   },
   "source": [
    "From the accuracy plot above, the model seems to be learning gradually overall but there are fluctuations (zigzag line). this indicates that the learning rate might be too high and the model is facing dificulty doing gradient descent as the magnitude of change is high. This could be solved using a decaying learning rate which reduces over time.\n",
    "\n",
    "Overall, validation accuracy has reached 90% at epoch 20 and it looks like we can obtain better performance if we trained for more than 20 epochs\n",
    "\n"
   ]
  },
  {
   "cell_type": "markdown",
   "metadata": {
    "colab_type": "text",
    "id": "dWIU0o3vu7jN"
   },
   "source": [
    "From the loss plot above, it also looks like the model is improving gradually as the loss are gradually reducing the more we progress. however, the training loss is concerning as it starts very low (0.0276 at first epoch) and gradualy reduces which is expected but i could not find an explaination to explain why it starts this low."
   ]
  },
  {
   "cell_type": "markdown",
   "metadata": {
    "colab_type": "text",
    "id": "XUq_lNNorJv8"
   },
   "source": [
    "# 9. Report the TypeI and TypeII errors of the developed model (Optional).\n",
    "\n",
    "\n",
    "Lets report Type1 and Type2 errors for the validation set"
   ]
  },
  {
   "cell_type": "code",
   "execution_count": 53,
   "metadata": {
    "colab": {},
    "colab_type": "code",
    "id": "yTZFNwwuvgPb"
   },
   "outputs": [],
   "source": [
    "# predicting validation X\n",
    "val_predict = model.predict(val_X)"
   ]
  },
  {
   "cell_type": "code",
   "execution_count": 54,
   "metadata": {
    "colab": {
     "base_uri": "https://localhost:8080/",
     "height": 142
    },
    "colab_type": "code",
    "id": "cNdkDoY3vgTC",
    "outputId": "4dea9b1b-1711-4426-d150-3b94ef5dd88b"
   },
   "outputs": [
    {
     "data": {
      "text/html": [
       "<div>\n",
       "<style scoped>\n",
       "    .dataframe tbody tr th:only-of-type {\n",
       "        vertical-align: middle;\n",
       "    }\n",
       "\n",
       "    .dataframe tbody tr th {\n",
       "        vertical-align: top;\n",
       "    }\n",
       "\n",
       "    .dataframe thead th {\n",
       "        text-align: right;\n",
       "    }\n",
       "</style>\n",
       "<table border=\"1\" class=\"dataframe\">\n",
       "  <thead>\n",
       "    <tr style=\"text-align: right;\">\n",
       "      <th></th>\n",
       "      <th>label</th>\n",
       "      <th>pred</th>\n",
       "    </tr>\n",
       "  </thead>\n",
       "  <tbody>\n",
       "    <tr>\n",
       "      <th>0</th>\n",
       "      <td>البحرين</td>\n",
       "      <td>البحرين</td>\n",
       "    </tr>\n",
       "    <tr>\n",
       "      <th>1</th>\n",
       "      <td>سوريا</td>\n",
       "      <td>سوريا</td>\n",
       "    </tr>\n",
       "    <tr>\n",
       "      <th>2</th>\n",
       "      <td>العصر العباسي</td>\n",
       "      <td>العصر العباسي</td>\n",
       "    </tr>\n",
       "  </tbody>\n",
       "</table>\n",
       "</div>"
      ],
      "text/plain": [
       "           label           pred\n",
       "0        البحرين        البحرين\n",
       "1          سوريا          سوريا\n",
       "2  العصر العباسي  العصر العباسي"
      ]
     },
     "execution_count": 54,
     "metadata": {
      "tags": []
     },
     "output_type": "execute_result"
    }
   ],
   "source": [
    "# making a dataframe which contains the label and predicted label\n",
    "val_result = pd.DataFrame({\n",
    "    'label' : [labels[np.argmax(array)] for array in val_y],\n",
    "    'pred' : [labels[np.argmax(array)] for array in val_predict]\n",
    "})\n",
    "val_result.head(3)"
   ]
  },
  {
   "cell_type": "code",
   "execution_count": 55,
   "metadata": {
    "colab": {
     "base_uri": "https://localhost:8080/",
     "height": 34
    },
    "colab_type": "code",
    "id": "A-wx24xeyWQA",
    "outputId": "eedb6fae-4dbc-4c87-ba34-3da87dc76a93"
   },
   "outputs": [
    {
     "data": {
      "text/plain": [
       "0"
      ]
     },
     "execution_count": 55,
     "metadata": {
      "tags": []
     },
     "output_type": "execute_result"
    }
   ],
   "source": [
    "lblst = labels.tolist()\n",
    "lblst.index('أفغانستان')"
   ]
  },
  {
   "cell_type": "code",
   "execution_count": 56,
   "metadata": {
    "colab": {},
    "colab_type": "code",
    "id": "xLEcXoTKvgaQ"
   },
   "outputs": [],
   "source": [
    "# there arrays to hold the error types and classes\n",
    "n_classes = val_result['label'].nunique()\n",
    "type1, type2, class_ = np.zeros((n_classes),dtype='uint8'), np.zeros((n_classes),dtype='uint8'), np.array(['***************' for _ in range(n_classes)])\n",
    "\n",
    "\n",
    "# group by class and calculate percentage Type 1 error (False negative)\n",
    "for g_name, df in val_result.groupby('label'):\n",
    "    type1[lblst.index(g_name)] = (df[df['pred'] != df['label']].shape[0] /df.shape[0])*100\n",
    "    class_[lblst.index(g_name)] = g_name\n",
    "\n",
    "# group by prediction and calculate percentage Type 2 error (False positive)\n",
    "for g_name, df in val_result.groupby('pred'):\n",
    "    type2[lblst.index(g_name)] = (df[df['pred'] != df['label']].shape[0] / df.shape[0])*100\n",
    "\n",
    "# constructing a dataframe for easy plotting\n",
    "error_results = pd.DataFrame({'typeI' : type1.tolist(),\n",
    "                       'typeII' : type2.tolist(),\n",
    "                       'class': class_.tolist()})"
   ]
  },
  {
   "cell_type": "code",
   "execution_count": 57,
   "metadata": {
    "colab": {
     "base_uri": "https://localhost:8080/",
     "height": 353
    },
    "colab_type": "code",
    "id": "1vj-U8szzl0f",
    "outputId": "b1f97eab-523d-4f53-8c9c-a98975f0ff48"
   },
   "outputs": [
    {
     "data": {
      "text/plain": [
       "Text(0.5, 1.0, 'Type II error')"
      ]
     },
     "execution_count": 57,
     "metadata": {
      "tags": []
     },
     "output_type": "execute_result"
    },
    {
     "data": {
      "image/png": "[encoded data removed]",
      "text/plain": [
       "<Figure size 1440x360 with 2 Axes>"
      ]
     },
     "metadata": {
      "needs_background": "light",
      "tags": []
     },
     "output_type": "display_data"
    }
   ],
   "source": [
    "fig = plt.figure(figsize=(20,5))\n",
    "\n",
    "ax = fig.add_subplot(1,2,1)\n",
    "ax.barh([get_display(reshaper.reshape(cat)) for cat in error_results['class']], error_results['typeI'], label='TypeI')\n",
    "ax.legend()\n",
    "ax.set_title(\"Type I error\")\n",
    "\n",
    "ax1 = fig.add_subplot(1,2,2)\n",
    "ax1.barh([get_display(reshaper.reshape(cat)) for cat in error_results['class']],error_results['typeII'], label='TypeII')\n",
    "ax1.legend()\n",
    "ax1.set_title(\"Type II error\")\n"
   ]
  },
  {
   "cell_type": "markdown",
   "metadata": {
    "colab_type": "text",
    "id": "3dJnT2I1kuiw"
   },
   "source": [
    "From Type1 error above, we notice that the model was not able to learn Jordanian poems at all as it misclassified 100% of jordanian poems. the model also has difficulty classifying Mauritanian and Morrocan poems."
   ]
  },
  {
   "cell_type": "markdown",
   "metadata": {
    "colab_type": "text",
    "id": "gFb5czeMmCs1"
   },
   "source": [
    "From Type2 error above, we also see that the model has completely faild to recognize Jordanian poems as the false positive is also 100%. Furthermore, the model highly struggles with mauritanian and kuwaiti poems at it keeps classifying other origins' poes as mauritanian and kuwaiti."
   ]
  },
  {
   "cell_type": "markdown",
   "metadata": {
    "colab_type": "text",
    "id": "BSFVJm7nmDOE"
   },
   "source": [
    "Overall, we notice that the minority group still suffer from the imbalance even after applying class weighting technique during training."
   ]
  },
  {
   "cell_type": "markdown",
   "metadata": {
    "colab_type": "text",
    "id": "J4LI6GeSrO52"
   },
   "source": [
    "# 10. Report the model results and suggest recommendations.\n"
   ]
  },
  {
   "cell_type": "markdown",
   "metadata": {
    "colab_type": "text",
    "id": "rITmlft2g3H7"
   },
   "source": [
    "Lets use the test set we preserved to calculate the accuracy"
   ]
  },
  {
   "cell_type": "code",
   "execution_count": 79,
   "metadata": {
    "colab": {},
    "colab_type": "code",
    "id": "Q8RbuP7f2sQj"
   },
   "outputs": [],
   "source": [
    "# performing prediction on X feature in test dataframe\n",
    "test_pred = model.predict(np.stack(test_df['encodes'].values))\n",
    "\n",
    "# getting the true labels from the test set\n",
    "test_y = pd.get_dummies(test_df['poet_cat']).to_numpy()"
   ]
  },
  {
   "cell_type": "code",
   "execution_count": 80,
   "metadata": {
    "colab": {
     "base_uri": "https://localhost:8080/",
     "height": 34
    },
    "colab_type": "code",
    "id": "aS16UiU-jX7F",
    "outputId": "5cc74f95-a6c2-40ee-a3fb-819da88b96f5"
   },
   "outputs": [
    {
     "data": {
      "text/plain": [
       "0.9141296"
      ]
     },
     "execution_count": 80,
     "metadata": {
      "tags": []
     },
     "output_type": "execute_result"
    }
   ],
   "source": [
    "m = tf.keras.metrics.CategoricalAccuracy()\n",
    "m.update_state(test_y, test_pred)\n",
    "m.result().numpy()"
   ]
  },
  {
   "cell_type": "markdown",
   "metadata": {
    "colab_type": "text",
    "id": "cOzcO-1Xg1vU"
   },
   "source": [
    "As can be seen from above, the accuracy is 91.41%\n",
    "\n",
    "Below i will add the predicted label next to the true label in the test dataframe"
   ]
  },
  {
   "cell_type": "code",
   "execution_count": 81,
   "metadata": {
    "colab": {},
    "colab_type": "code",
    "id": "bLGdxSBYdci3"
   },
   "outputs": [],
   "source": [
    "# adding the predicted values next to the labels\n",
    "test_df['pred'] = test_pred.tolist()\n",
    "\n",
    "# convert softmax to label\n",
    "test_df['pred'] = test_df['pred'].apply(lambda pred: labels[np.argmax(pred)])\n"
   ]
  },
  {
   "cell_type": "code",
   "execution_count": 82,
   "metadata": {
    "colab": {
     "base_uri": "https://localhost:8080/",
     "height": 204
    },
    "colab_type": "code",
    "id": "Np321xTsesvW",
    "outputId": "135d3c7a-628e-4614-d8ed-3268fb65e932"
   },
   "outputs": [
    {
     "data": {
      "text/html": [
       "<div>\n",
       "<style scoped>\n",
       "    .dataframe tbody tr th:only-of-type {\n",
       "        vertical-align: middle;\n",
       "    }\n",
       "\n",
       "    .dataframe tbody tr th {\n",
       "        vertical-align: top;\n",
       "    }\n",
       "\n",
       "    .dataframe thead th {\n",
       "        text-align: right;\n",
       "    }\n",
       "</style>\n",
       "<table border=\"1\" class=\"dataframe\">\n",
       "  <thead>\n",
       "    <tr style=\"text-align: right;\">\n",
       "      <th></th>\n",
       "      <th>encodes</th>\n",
       "      <th>poet_cat</th>\n",
       "      <th>pred</th>\n",
       "    </tr>\n",
       "  </thead>\n",
       "  <tbody>\n",
       "    <tr>\n",
       "      <th>0</th>\n",
       "      <td>[29756, 5471, 49801, 29758, 4782, 29758, 29757...</td>\n",
       "      <td>سوريا</td>\n",
       "      <td>السعودية</td>\n",
       "    </tr>\n",
       "    <tr>\n",
       "      <th>1</th>\n",
       "      <td>[29756, 5340, 445, 44540, 12134, 445, 45021, 5...</td>\n",
       "      <td>مصر</td>\n",
       "      <td>مصر</td>\n",
       "    </tr>\n",
       "    <tr>\n",
       "      <th>2</th>\n",
       "      <td>[29756, 5233, 980, 459, 445, 28677, 29758, 857...</td>\n",
       "      <td>العصر الجاهلي</td>\n",
       "      <td>العصر الجاهلي</td>\n",
       "    </tr>\n",
       "    <tr>\n",
       "      <th>3</th>\n",
       "      <td>[29756, 12219, 20479, 445, 7928, 1003, 29758, ...</td>\n",
       "      <td>العراق</td>\n",
       "      <td>العراق</td>\n",
       "    </tr>\n",
       "    <tr>\n",
       "      <th>4</th>\n",
       "      <td>[29756, 445, 44483, 445, 1003, 29237, 1007, 29...</td>\n",
       "      <td>العصر الإسلامي</td>\n",
       "      <td>العصر الإسلامي</td>\n",
       "    </tr>\n",
       "  </tbody>\n",
       "</table>\n",
       "</div>"
      ],
      "text/plain": [
       "                                             encodes  ...            pred\n",
       "0  [29756, 5471, 49801, 29758, 4782, 29758, 29757...  ...        السعودية\n",
       "1  [29756, 5340, 445, 44540, 12134, 445, 45021, 5...  ...             مصر\n",
       "2  [29756, 5233, 980, 459, 445, 28677, 29758, 857...  ...   العصر الجاهلي\n",
       "3  [29756, 12219, 20479, 445, 7928, 1003, 29758, ...  ...          العراق\n",
       "4  [29756, 445, 44483, 445, 1003, 29237, 1007, 29...  ...  العصر الإسلامي\n",
       "\n",
       "[5 rows x 3 columns]"
      ]
     },
     "execution_count": 82,
     "metadata": {
      "tags": []
     },
     "output_type": "execute_result"
    }
   ],
   "source": [
    "# How it looks like\n",
    "test_df.head(5)"
   ]
  },
  {
   "cell_type": "markdown",
   "metadata": {
    "colab_type": "text",
    "id": "R98GIhybhePm"
   },
   "source": [
    "#### Suggestions anf future work\n",
    "\n",
    "* Apply decaying learning rate\n",
    "* Run experiments to optimize the layers of the model\n",
    "* preprocess and use the poem text feature (take keywords) \n",
    "* Upsample minority class using pre-trained word embedding to generate similar sentences"
   ]
  },
  {
   "cell_type": "markdown",
   "metadata": {
    "colab_type": "text",
    "id": "o5xn55p6i1k1"
   },
   "source": []
  }
 ],
 "metadata": {
  "colab": {
   "collapsed_sections": [],
   "name": "NLP Challange.ipynb",
   "provenance": []
  },
  "kernelspec": {
   "display_name": "Python 3",
   "language": "python",
   "name": "python3"
  },
  "language_info": {
   "codemirror_mode": {
    "name": "ipython",
    "version": 3
   },
   "file_extension": ".py",
   "mimetype": "text/x-python",
   "name": "python",
   "nbconvert_exporter": "python",
   "pygments_lexer": "ipython3",
   "version": "3.8.0"
  },
  "widgets": {
   "application/vnd.jupyter.widget-state+json": {
    "06edecb871d54123974f714425324851": {
     "model_module": "@jupyter-widgets/base",
     "model_name": "LayoutModel",
     "state": {
      "_model_module": "@jupyter-widgets/base",
      "_model_module_version": "1.2.0",
      "_model_name": "LayoutModel",
      "_view_count": null,
      "_view_module": "@jupyter-widgets/base",
      "_view_module_version": "1.2.0",
      "_view_name": "LayoutView",
      "align_content": null,
      "align_items": null,
      "align_self": null,
      "border": null,
      "bottom": null,
      "display": null,
      "flex": null,
      "flex_flow": null,
      "grid_area": null,
      "grid_auto_columns": null,
      "grid_auto_flow": null,
      "grid_auto_rows": null,
      "grid_column": null,
      "grid_gap": null,
      "grid_row": null,
      "grid_template_areas": null,
      "grid_template_columns": null,
      "grid_template_rows": null,
      "height": null,
      "justify_content": null,
      "justify_items": null,
      "left": null,
      "margin": null,
      "max_height": null,
      "max_width": null,
      "min_height": null,
      "min_width": null,
      "object_fit": null,
      "object_position": null,
      "order": null,
      "overflow": null,
      "overflow_x": null,
      "overflow_y": null,
      "padding": null,
      "right": null,
      "top": null,
      "visibility": null,
      "width": null
     }
    },
    "081687946b5f49989549e3ec9aae99cf": {
     "model_module": "@jupyter-widgets/controls",
     "model_name": "DescriptionStyleModel",
     "state": {
      "_model_module": "@jupyter-widgets/controls",
      "_model_module_version": "1.5.0",
      "_model_name": "DescriptionStyleModel",
      "_view_count": null,
      "_view_module": "@jupyter-widgets/base",
      "_view_module_version": "1.2.0",
      "_view_name": "StyleView",
      "description_width": ""
     }
    },
    "14bb54d519fe425caf340e8df5680c67": {
     "model_module": "@jupyter-widgets/controls",
     "model_name": "HBoxModel",
     "state": {
      "_dom_classes": [],
      "_model_module": "@jupyter-widgets/controls",
      "_model_module_version": "1.5.0",
      "_model_name": "HBoxModel",
      "_view_count": null,
      "_view_module": "@jupyter-widgets/controls",
      "_view_module_version": "1.5.0",
      "_view_name": "HBoxView",
      "box_style": "",
      "children": [
       "IPY_MODEL_caea5536eca24a5bb7e117383b3304f0",
       "IPY_MODEL_afe5ed16803a4aac82875376599533cd"
      ],
      "layout": "IPY_MODEL_1a4f8e3bbc0248b481b686b36f9a6751"
     }
    },
    "1a4f8e3bbc0248b481b686b36f9a6751": {
     "model_module": "@jupyter-widgets/base",
     "model_name": "LayoutModel",
     "state": {
      "_model_module": "@jupyter-widgets/base",
      "_model_module_version": "1.2.0",
      "_model_name": "LayoutModel",
      "_view_count": null,
      "_view_module": "@jupyter-widgets/base",
      "_view_module_version": "1.2.0",
      "_view_name": "LayoutView",
      "align_content": null,
      "align_items": null,
      "align_self": null,
      "border": null,
      "bottom": null,
      "display": null,
      "flex": null,
      "flex_flow": null,
      "grid_area": null,
      "grid_auto_columns": null,
      "grid_auto_flow": null,
      "grid_auto_rows": null,
      "grid_column": null,
      "grid_gap": null,
      "grid_row": null,
      "grid_template_areas": null,
      "grid_template_columns": null,
      "grid_template_rows": null,
      "height": null,
      "justify_content": null,
      "justify_items": null,
      "left": null,
      "margin": null,
      "max_height": null,
      "max_width": null,
      "min_height": null,
      "min_width": null,
      "object_fit": null,
      "object_position": null,
      "order": null,
      "overflow": null,
      "overflow_x": null,
      "overflow_y": null,
      "padding": null,
      "right": null,
      "top": null,
      "visibility": null,
      "width": null
     }
    },
    "265fe39c94474415aa29b50bfdf13a3d": {
     "model_module": "@jupyter-widgets/controls",
     "model_name": "ProgressStyleModel",
     "state": {
      "_model_module": "@jupyter-widgets/controls",
      "_model_module_version": "1.5.0",
      "_model_name": "ProgressStyleModel",
      "_view_count": null,
      "_view_module": "@jupyter-widgets/base",
      "_view_module_version": "1.2.0",
      "_view_name": "StyleView",
      "bar_color": null,
      "description_width": "initial"
     }
    },
    "39d60e6cba9b4ec1b364e9959c4ca078": {
     "model_module": "@jupyter-widgets/controls",
     "model_name": "FloatProgressModel",
     "state": {
      "_dom_classes": [],
      "_model_module": "@jupyter-widgets/controls",
      "_model_module_version": "1.5.0",
      "_model_name": "FloatProgressModel",
      "_view_count": null,
      "_view_module": "@jupyter-widgets/controls",
      "_view_module_version": "1.5.0",
      "_view_name": "ProgressView",
      "bar_style": "success",
      "description": "Downloading: 100%",
      "description_tooltip": null,
      "layout": "IPY_MODEL_52ca6ff8b53a44c69502eba3047e26bf",
      "max": 717153,
      "min": 0,
      "orientation": "horizontal",
      "style": "IPY_MODEL_265fe39c94474415aa29b50bfdf13a3d",
      "value": 717153
     }
    },
    "3e9a2a1b8b1349458e006fb3c919eb56": {
     "model_module": "@jupyter-widgets/base",
     "model_name": "LayoutModel",
     "state": {
      "_model_module": "@jupyter-widgets/base",
      "_model_module_version": "1.2.0",
      "_model_name": "LayoutModel",
      "_view_count": null,
      "_view_module": "@jupyter-widgets/base",
      "_view_module_version": "1.2.0",
      "_view_name": "LayoutView",
      "align_content": null,
      "align_items": null,
      "align_self": null,
      "border": null,
      "bottom": null,
      "display": null,
      "flex": null,
      "flex_flow": null,
      "grid_area": null,
      "grid_auto_columns": null,
      "grid_auto_flow": null,
      "grid_auto_rows": null,
      "grid_column": null,
      "grid_gap": null,
      "grid_row": null,
      "grid_template_areas": null,
      "grid_template_columns": null,
      "grid_template_rows": null,
      "height": null,
      "justify_content": null,
      "justify_items": null,
      "left": null,
      "margin": null,
      "max_height": null,
      "max_width": null,
      "min_height": null,
      "min_width": null,
      "object_fit": null,
      "object_position": null,
      "order": null,
      "overflow": null,
      "overflow_x": null,
      "overflow_y": null,
      "padding": null,
      "right": null,
      "top": null,
      "visibility": null,
      "width": null
     }
    },
    "401b06472c444367872558d34db8bd92": {
     "model_module": "@jupyter-widgets/controls",
     "model_name": "HBoxModel",
     "state": {
      "_dom_classes": [],
      "_model_module": "@jupyter-widgets/controls",
      "_model_module_version": "1.5.0",
      "_model_name": "HBoxModel",
      "_view_count": null,
      "_view_module": "@jupyter-widgets/controls",
      "_view_module_version": "1.5.0",
      "_view_name": "HBoxView",
      "box_style": "",
      "children": [
       "IPY_MODEL_39d60e6cba9b4ec1b364e9959c4ca078",
       "IPY_MODEL_a2f7941a070b417394a658019fbf3ebc"
      ],
      "layout": "IPY_MODEL_f5e51fd628eb485a887f5621fdedb73c"
     }
    },
    "52ca6ff8b53a44c69502eba3047e26bf": {
     "model_module": "@jupyter-widgets/base",
     "model_name": "LayoutModel",
     "state": {
      "_model_module": "@jupyter-widgets/base",
      "_model_module_version": "1.2.0",
      "_model_name": "LayoutModel",
      "_view_count": null,
      "_view_module": "@jupyter-widgets/base",
      "_view_module_version": "1.2.0",
      "_view_name": "LayoutView",
      "align_content": null,
      "align_items": null,
      "align_self": null,
      "border": null,
      "bottom": null,
      "display": null,
      "flex": null,
      "flex_flow": null,
      "grid_area": null,
      "grid_auto_columns": null,
      "grid_auto_flow": null,
      "grid_auto_rows": null,
      "grid_column": null,
      "grid_gap": null,
      "grid_row": null,
      "grid_template_areas": null,
      "grid_template_columns": null,
      "grid_template_rows": null,
      "height": null,
      "justify_content": null,
      "justify_items": null,
      "left": null,
      "margin": null,
      "max_height": null,
      "max_width": null,
      "min_height": null,
      "min_width": null,
      "object_fit": null,
      "object_position": null,
      "order": null,
      "overflow": null,
      "overflow_x": null,
      "overflow_y": null,
      "padding": null,
      "right": null,
      "top": null,
      "visibility": null,
      "width": null
     }
    },
    "54961f2730b4486cb4e6f85a7e815104": {
     "model_module": "@jupyter-widgets/controls",
     "model_name": "ProgressStyleModel",
     "state": {
      "_model_module": "@jupyter-widgets/controls",
      "_model_module_version": "1.5.0",
      "_model_name": "ProgressStyleModel",
      "_view_count": null,
      "_view_module": "@jupyter-widgets/base",
      "_view_module_version": "1.2.0",
      "_view_name": "StyleView",
      "bar_color": null,
      "description_width": "initial"
     }
    },
    "83dfc331d180456dba13f697f3bb5568": {
     "model_module": "@jupyter-widgets/controls",
     "model_name": "DescriptionStyleModel",
     "state": {
      "_model_module": "@jupyter-widgets/controls",
      "_model_module_version": "1.5.0",
      "_model_name": "DescriptionStyleModel",
      "_view_count": null,
      "_view_module": "@jupyter-widgets/base",
      "_view_module_version": "1.2.0",
      "_view_name": "StyleView",
      "description_width": ""
     }
    },
    "87ed9301cecf4b0ea2334fe3318c4f9a": {
     "model_module": "@jupyter-widgets/base",
     "model_name": "LayoutModel",
     "state": {
      "_model_module": "@jupyter-widgets/base",
      "_model_module_version": "1.2.0",
      "_model_name": "LayoutModel",
      "_view_count": null,
      "_view_module": "@jupyter-widgets/base",
      "_view_module_version": "1.2.0",
      "_view_name": "LayoutView",
      "align_content": null,
      "align_items": null,
      "align_self": null,
      "border": null,
      "bottom": null,
      "display": null,
      "flex": null,
      "flex_flow": null,
      "grid_area": null,
      "grid_auto_columns": null,
      "grid_auto_flow": null,
      "grid_auto_rows": null,
      "grid_column": null,
      "grid_gap": null,
      "grid_row": null,
      "grid_template_areas": null,
      "grid_template_columns": null,
      "grid_template_rows": null,
      "height": null,
      "justify_content": null,
      "justify_items": null,
      "left": null,
      "margin": null,
      "max_height": null,
      "max_width": null,
      "min_height": null,
      "min_width": null,
      "object_fit": null,
      "object_position": null,
      "order": null,
      "overflow": null,
      "overflow_x": null,
      "overflow_y": null,
      "padding": null,
      "right": null,
      "top": null,
      "visibility": null,
      "width": null
     }
    },
    "88064fb5eefb4d6ba257334dc577ad52": {
     "model_module": "@jupyter-widgets/controls",
     "model_name": "DescriptionStyleModel",
     "state": {
      "_model_module": "@jupyter-widgets/controls",
      "_model_module_version": "1.5.0",
      "_model_name": "DescriptionStyleModel",
      "_view_count": null,
      "_view_module": "@jupyter-widgets/base",
      "_view_module_version": "1.2.0",
      "_view_name": "StyleView",
      "description_width": ""
     }
    },
    "90a36372b10e46928de1b81a3d5f2827": {
     "model_module": "@jupyter-widgets/controls",
     "model_name": "HBoxModel",
     "state": {
      "_dom_classes": [],
      "_model_module": "@jupyter-widgets/controls",
      "_model_module_version": "1.5.0",
      "_model_name": "HBoxModel",
      "_view_count": null,
      "_view_module": "@jupyter-widgets/controls",
      "_view_module_version": "1.5.0",
      "_view_name": "HBoxView",
      "box_style": "",
      "children": [
       "IPY_MODEL_f372359d1e204195aa36333d052970d7",
       "IPY_MODEL_b75004f5475848378e8637b0f35ba5c3"
      ],
      "layout": "IPY_MODEL_3e9a2a1b8b1349458e006fb3c919eb56"
     }
    },
    "a2f7941a070b417394a658019fbf3ebc": {
     "model_module": "@jupyter-widgets/controls",
     "model_name": "HTMLModel",
     "state": {
      "_dom_classes": [],
      "_model_module": "@jupyter-widgets/controls",
      "_model_module_version": "1.5.0",
      "_model_name": "HTMLModel",
      "_view_count": null,
      "_view_module": "@jupyter-widgets/controls",
      "_view_module_version": "1.5.0",
      "_view_name": "HTMLView",
      "description": "",
      "description_tooltip": null,
      "layout": "IPY_MODEL_fd56f95def814a9094908be63f7bd131",
      "placeholder": "​",
      "style": "IPY_MODEL_83dfc331d180456dba13f697f3bb5568",
      "value": " 717k/717k [00:00&lt;00:00, 838kB/s]"
     }
    },
    "afe5ed16803a4aac82875376599533cd": {
     "model_module": "@jupyter-widgets/controls",
     "model_name": "HTMLModel",
     "state": {
      "_dom_classes": [],
      "_model_module": "@jupyter-widgets/controls",
      "_model_module_version": "1.5.0",
      "_model_name": "HTMLModel",
      "_view_count": null,
      "_view_module": "@jupyter-widgets/controls",
      "_view_module_version": "1.5.0",
      "_view_name": "HTMLView",
      "description": "",
      "description_tooltip": null,
      "layout": "IPY_MODEL_87ed9301cecf4b0ea2334fe3318c4f9a",
      "placeholder": "​",
      "style": "IPY_MODEL_081687946b5f49989549e3ec9aae99cf",
      "value": " 112/112 [00:00&lt;00:00, 443B/s]"
     }
    },
    "b75004f5475848378e8637b0f35ba5c3": {
     "model_module": "@jupyter-widgets/controls",
     "model_name": "HTMLModel",
     "state": {
      "_dom_classes": [],
      "_model_module": "@jupyter-widgets/controls",
      "_model_module_version": "1.5.0",
      "_model_name": "HTMLModel",
      "_view_count": null,
      "_view_module": "@jupyter-widgets/controls",
      "_view_module_version": "1.5.0",
      "_view_name": "HTMLView",
      "description": "",
      "description_tooltip": null,
      "layout": "IPY_MODEL_dd3804d380e44b56b9511fcd818f37ac",
      "placeholder": "​",
      "style": "IPY_MODEL_88064fb5eefb4d6ba257334dc577ad52",
      "value": " 406/406 [00:00&lt;00:00, 1.82kB/s]"
     }
    },
    "c753e71645254bf2baf14ab9ffa9b2cc": {
     "model_module": "@jupyter-widgets/base",
     "model_name": "LayoutModel",
     "state": {
      "_model_module": "@jupyter-widgets/base",
      "_model_module_version": "1.2.0",
      "_model_name": "LayoutModel",
      "_view_count": null,
      "_view_module": "@jupyter-widgets/base",
      "_view_module_version": "1.2.0",
      "_view_name": "LayoutView",
      "align_content": null,
      "align_items": null,
      "align_self": null,
      "border": null,
      "bottom": null,
      "display": null,
      "flex": null,
      "flex_flow": null,
      "grid_area": null,
      "grid_auto_columns": null,
      "grid_auto_flow": null,
      "grid_auto_rows": null,
      "grid_column": null,
      "grid_gap": null,
      "grid_row": null,
      "grid_template_areas": null,
      "grid_template_columns": null,
      "grid_template_rows": null,
      "height": null,
      "justify_content": null,
      "justify_items": null,
      "left": null,
      "margin": null,
      "max_height": null,
      "max_width": null,
      "min_height": null,
      "min_width": null,
      "object_fit": null,
      "object_position": null,
      "order": null,
      "overflow": null,
      "overflow_x": null,
      "overflow_y": null,
      "padding": null,
      "right": null,
      "top": null,
      "visibility": null,
      "width": null
     }
    },
    "caea5536eca24a5bb7e117383b3304f0": {
     "model_module": "@jupyter-widgets/controls",
     "model_name": "FloatProgressModel",
     "state": {
      "_dom_classes": [],
      "_model_module": "@jupyter-widgets/controls",
      "_model_module_version": "1.5.0",
      "_model_name": "FloatProgressModel",
      "_view_count": null,
      "_view_module": "@jupyter-widgets/controls",
      "_view_module_version": "1.5.0",
      "_view_name": "ProgressView",
      "bar_style": "success",
      "description": "Downloading: 100%",
      "description_tooltip": null,
      "layout": "IPY_MODEL_c753e71645254bf2baf14ab9ffa9b2cc",
      "max": 112,
      "min": 0,
      "orientation": "horizontal",
      "style": "IPY_MODEL_e7b0e5e95c2c47bcb19886ecb1d67260",
      "value": 112
     }
    },
    "dd3804d380e44b56b9511fcd818f37ac": {
     "model_module": "@jupyter-widgets/base",
     "model_name": "LayoutModel",
     "state": {
      "_model_module": "@jupyter-widgets/base",
      "_model_module_version": "1.2.0",
      "_model_name": "LayoutModel",
      "_view_count": null,
      "_view_module": "@jupyter-widgets/base",
      "_view_module_version": "1.2.0",
      "_view_name": "LayoutView",
      "align_content": null,
      "align_items": null,
      "align_self": null,
      "border": null,
      "bottom": null,
      "display": null,
      "flex": null,
      "flex_flow": null,
      "grid_area": null,
      "grid_auto_columns": null,
      "grid_auto_flow": null,
      "grid_auto_rows": null,
      "grid_column": null,
      "grid_gap": null,
      "grid_row": null,
      "grid_template_areas": null,
      "grid_template_columns": null,
      "grid_template_rows": null,
      "height": null,
      "justify_content": null,
      "justify_items": null,
      "left": null,
      "margin": null,
      "max_height": null,
      "max_width": null,
      "min_height": null,
      "min_width": null,
      "object_fit": null,
      "object_position": null,
      "order": null,
      "overflow": null,
      "overflow_x": null,
      "overflow_y": null,
      "padding": null,
      "right": null,
      "top": null,
      "visibility": null,
      "width": null
     }
    },
    "e7b0e5e95c2c47bcb19886ecb1d67260": {
     "model_module": "@jupyter-widgets/controls",
     "model_name": "ProgressStyleModel",
     "state": {
      "_model_module": "@jupyter-widgets/controls",
      "_model_module_version": "1.5.0",
      "_model_name": "ProgressStyleModel",
      "_view_count": null,
      "_view_module": "@jupyter-widgets/base",
      "_view_module_version": "1.2.0",
      "_view_name": "StyleView",
      "bar_color": null,
      "description_width": "initial"
     }
    },
    "f372359d1e204195aa36333d052970d7": {
     "model_module": "@jupyter-widgets/controls",
     "model_name": "FloatProgressModel",
     "state": {
      "_dom_classes": [],
      "_model_module": "@jupyter-widgets/controls",
      "_model_module_version": "1.5.0",
      "_model_name": "FloatProgressModel",
      "_view_count": null,
      "_view_module": "@jupyter-widgets/controls",
      "_view_module_version": "1.5.0",
      "_view_name": "ProgressView",
      "bar_style": "success",
      "description": "Downloading: 100%",
      "description_tooltip": null,
      "layout": "IPY_MODEL_06edecb871d54123974f714425324851",
      "max": 406,
      "min": 0,
      "orientation": "horizontal",
      "style": "IPY_MODEL_54961f2730b4486cb4e6f85a7e815104",
      "value": 406
     }
    },
    "f5e51fd628eb485a887f5621fdedb73c": {
     "model_module": "@jupyter-widgets/base",
     "model_name": "LayoutModel",
     "state": {
      "_model_module": "@jupyter-widgets/base",
      "_model_module_version": "1.2.0",
      "_model_name": "LayoutModel",
      "_view_count": null,
      "_view_module": "@jupyter-widgets/base",
      "_view_module_version": "1.2.0",
      "_view_name": "LayoutView",
      "align_content": null,
      "align_items": null,
      "align_self": null,
      "border": null,
      "bottom": null,
      "display": null,
      "flex": null,
      "flex_flow": null,
      "grid_area": null,
      "grid_auto_columns": null,
      "grid_auto_flow": null,
      "grid_auto_rows": null,
      "grid_column": null,
      "grid_gap": null,
      "grid_row": null,
      "grid_template_areas": null,
      "grid_template_columns": null,
      "grid_template_rows": null,
      "height": null,
      "justify_content": null,
      "justify_items": null,
      "left": null,
      "margin": null,
      "max_height": null,
      "max_width": null,
      "min_height": null,
      "min_width": null,
      "object_fit": null,
      "object_position": null,
      "order": null,
      "overflow": null,
      "overflow_x": null,
      "overflow_y": null,
      "padding": null,
      "right": null,
      "top": null,
      "visibility": null,
      "width": null
     }
    },
    "fd56f95def814a9094908be63f7bd131": {
     "model_module": "@jupyter-widgets/base",
     "model_name": "LayoutModel",
     "state": {
      "_model_module": "@jupyter-widgets/base",
      "_model_module_version": "1.2.0",
      "_model_name": "LayoutModel",
      "_view_count": null,
      "_view_module": "@jupyter-widgets/base",
      "_view_module_version": "1.2.0",
      "_view_name": "LayoutView",
      "align_content": null,
      "align_items": null,
      "align_self": null,
      "border": null,
      "bottom": null,
      "display": null,
      "flex": null,
      "flex_flow": null,
      "grid_area": null,
      "grid_auto_columns": null,
      "grid_auto_flow": null,
      "grid_auto_rows": null,
      "grid_column": null,
      "grid_gap": null,
      "grid_row": null,
      "grid_template_areas": null,
      "grid_template_columns": null,
      "grid_template_rows": null,
      "height": null,
      "justify_content": null,
      "justify_items": null,
      "left": null,
      "margin": null,
      "max_height": null,
      "max_width": null,
      "min_height": null,
      "min_width": null,
      "object_fit": null,
      "object_position": null,
      "order": null,
      "overflow": null,
      "overflow_x": null,
      "overflow_y": null,
      "padding": null,
      "right": null,
      "top": null,
      "visibility": null,
      "width": null
     }
    }
   }
  }
 },
 "nbformat": 4,
 "nbformat_minor": 1
}
